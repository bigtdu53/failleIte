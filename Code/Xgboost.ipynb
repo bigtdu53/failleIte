{
 "cells": [
  {
   "cell_type": "code",
   "execution_count": 1,
   "metadata": {
    "collapsed": false
   },
   "outputs": [
    {
     "ename": "ImportError",
     "evalue": "No module named 'xgboost'",
     "output_type": "error",
     "traceback": [
      "\u001b[0;31m---------------------------------------------------------------------------\u001b[0m",
      "\u001b[0;31mImportError\u001b[0m                               Traceback (most recent call last)",
      "\u001b[0;32m<ipython-input-1-745aa3a2d734>\u001b[0m in \u001b[0;36m<module>\u001b[0;34m()\u001b[0m\n\u001b[0;32m----> 1\u001b[0;31m \u001b[0;32mimport\u001b[0m \u001b[0mxgboost\u001b[0m \u001b[0;32mas\u001b[0m \u001b[0mxgb\u001b[0m\u001b[0;34m\u001b[0m\u001b[0m\n\u001b[0m",
      "\u001b[0;31mImportError\u001b[0m: No module named 'xgboost'"
     ]
    }
   ],
   "source": [
    "import xgboost as xgb\n"
   ]
  },
  {
   "cell_type": "code",
   "execution_count": 4,
   "metadata": {
    "collapsed": false
   },
   "outputs": [
    {
     "name": "stderr",
     "output_type": "stream",
     "text": [
      "//anaconda/lib/python3.5/site-packages/ipykernel/__main__.py:80: FutureWarning: in the future, boolean array-likes will be handled as a boolean array index\n"
     ]
    }
   ],
   "source": [
    "import numpy as np\n",
    "import pandas as pd\n",
    "import matplotlib.pyplot as plt\n",
    "pd.set_option('display.max_columns', None)\n",
    "# optional\n",
    "import seaborn as sns; sns.set()\n",
    "import math\n",
    "from sklearn.model_selection import GridSearchCV\n",
    "from sklearn.mixture import GaussianMixture\n",
    "from sklearn.ensemble import GradientBoostingClassifier\n",
    "from scipy.sparse.linalg import svds\n",
    "from functools import partial\n",
    "\n",
    "\n",
    "train = pd.read_table(\"../Data_competition/X_train.txt\", sep=',',header=None)\n",
    "test = pd.read_table(\"../Data_competition/X_test.txt\",sep=',',header=None)\n",
    "cible=pd.read_table(\"../Data_competition/y_train.txt\",sep=',',header=None)\n",
    "header=pd.read_csv(\"../Data_competition/header.csv\",sep=',',header=None)\n",
    "\n",
    "feature_name=header.drop(header.columns[[2]], axis=1)\n",
    "feature_name=feature_name.drop(feature_name.index[[56,49,30,20,14,0,38]])[3]\n",
    "feature_name\n",
    "feature_name2=header.drop(header.columns[[2]], axis=1)\n",
    "feature_name2=feature_name2.drop(feature_name2.index[[56,49,30,20,14,0,38]])[1]\n",
    "                                 \n",
    "train_via_def=train\n",
    "train_via_def.columns=feature_name2\n",
    "test_via_def=test\n",
    "test_via_def.columns=feature_name2\n",
    "\n",
    "frames=[train_via_def,test_via_def]\n",
    "alldata= pd.concat(frames,keys=['train','test'])\n",
    "\n",
    "\n",
    "\n",
    "##########################\n",
    "\n",
    "\n",
    "def emsvd(Y, k=None, tol=1E-3, maxiter=None):\n",
    "    \"\"\"\n",
    "    Approximate SVD on data with missing values via expectation-maximization\n",
    "\n",
    "    Inputs:\n",
    "    -----------\n",
    "    Y:          (nobs, ndim) data matrix, missing values denoted by NaN/Inf\n",
    "    k:          number of singular values/vectors to find (default: k=ndim)\n",
    "    tol:        convergence tolerance on change in trace norm\n",
    "    maxiter:    maximum number of EM steps to perform (default: no limit)\n",
    "\n",
    "    Returns:\n",
    "    -----------\n",
    "    Y_hat:      (nobs, ndim) reconstructed data matrix\n",
    "    mu_hat:     (ndim,) estimated column means for reconstructed data\n",
    "    U, s, Vt:   singular values and vectors (see np.linalg.svd and \n",
    "                scipy.sparse.linalg.svds for details)\n",
    "    \"\"\"\n",
    "\n",
    "    if k is None:\n",
    "        svdmethod = partial(np.linalg.svd, full_matrices=False)\n",
    "    else:\n",
    "        svdmethod = partial(svds, k=k)\n",
    "    if maxiter is None:\n",
    "        maxiter = np.inf\n",
    "\n",
    "    # initialize the missing values to their respective column means\n",
    "    mu_hat = np.nanmean(Y, axis=0, keepdims=1)\n",
    "    valid = np.isfinite(Y)\n",
    "    Y_hat = np.where(valid, Y, mu_hat)\n",
    "\n",
    "    halt = False\n",
    "    ii = 1\n",
    "    v_prev = 0\n",
    "\n",
    "    while not halt:\n",
    "\n",
    "        # SVD on filled-in data\n",
    "        U, s, Vt = svdmethod(Y_hat - mu_hat)\n",
    "\n",
    "        # impute missing values\n",
    "        Y_hat[~valid] = (U.dot(np.diag(s)).dot(Vt) + mu_hat)[~valid]\n",
    "\n",
    "        # update bias parameter\n",
    "        mu_hat = Y_hat.mean(axis=0, keepdims=1)\n",
    "\n",
    "        # test convergence using relative change in trace norm\n",
    "        v = s.sum()\n",
    "        if ii >= maxiter or ((v - v_prev) / v_prev) < tol:\n",
    "            halt = True\n",
    "        ii += 1\n",
    "        v_prev = v\n",
    "\n",
    "    return Y_hat, mu_hat, U, s, Vt\n",
    "    \n",
    "    \n",
    "\n",
    "alldata_fill_svd=pd.DataFrame(emsvd(alldata)[0],columns=feature_name2)\n",
    "#alldata_fill_svd['x51']=alldata_fill_svd['x51']-2011\n",
    "                     \n",
    "###########\n",
    "\n",
    "#train_nan_svd=alldata_fill_svd.iloc[0:2400]\n",
    "#test_nan_svd=alldata_fill_svd.iloc[2400:4001]"
   ]
  },
  {
   "cell_type": "code",
   "execution_count": 5,
   "metadata": {
    "collapsed": false
   },
   "outputs": [
    {
     "name": "stderr",
     "output_type": "stream",
     "text": [
      "//anaconda/lib/python3.5/site-packages/ipykernel/__main__.py:80: FutureWarning: in the future, boolean array-likes will be handled as a boolean array index\n"
     ]
    }
   ],
   "source": [
    "train_fill_svd=pd.DataFrame(emsvd(train_via_def)[0],columns=feature_name2)\n",
    "train_fill_svd['x51']=train_fill_svd['x51']-2011"
   ]
  },
  {
   "cell_type": "code",
   "execution_count": null,
   "metadata": {
    "collapsed": true
   },
   "outputs": [],
   "source": [
    "tuned_parameters = [{'loss': ['deviance','exponential'],\n",
    "                    'max_features':[5,10,20,50],\n",
    "                    'max_depth':[3,5,10,30],\n",
    "                    'n_estimators':[100,300]}]\n",
    "\n",
    "clf = GridSearchCV(GradientBoostingClassifier(), tuned_parameters, cv=10,verbose=1)\n",
    "clf.fit(train_fill_svd, cible[0].values)\n",
    "\n",
    "\n",
    "print(\"Best parameters set found on development set:\")\n",
    "print()\n",
    "print(clf.best_params_)\n",
    "print()\n",
    "\n",
    "print(\"Grid scores on development set:\")\n",
    "print()\n",
    "means = clf.cv_results_['mean_test_score']\n",
    "stds = clf.cv_results_['std_test_score']\n",
    "for mean, std, params in zip(means, stds, clf.cv_results_['params']):\n",
    "    print(\"%0.3f (+/-%0.03f) for %r\"\n",
    "            % (mean, std * 2, params))\n",
    "print()"
   ]
  },
  {
   "cell_type": "code",
   "execution_count": null,
   "metadata": {
    "collapsed": true
   },
   "outputs": [],
   "source": [
    "alldata_nan_svd=pd.DataFrame(emsvd(alldata)[0],columns=feature_name2)\n",
    "alldata_nan_svd['x51']=alldata_nan_svd['x51']-2011"
   ]
  },
  {
   "cell_type": "code",
   "execution_count": null,
   "metadata": {
    "collapsed": true
   },
   "outputs": [],
   "source": [
    "test_nan_svd_2=alldata_nan_svd.iloc[2400:4001]"
   ]
  },
  {
   "cell_type": "code",
   "execution_count": null,
   "metadata": {
    "collapsed": true
   },
   "outputs": [],
   "source": [
    "y_pred_clf=clf.predict(test_nan_svd_2)\n",
    "\n",
    "index=range(len(y_pred_clf))\n",
    "data=np.transpose([index,y_pred_clf])\n",
    "a = pd.DataFrame(data=data,columns=['Id','Prediction'])\n",
    "a.to_csv(\"submission4.csv\", sep=\",\",index=False)"
   ]
  },
  {
   "cell_type": "code",
   "execution_count": null,
   "metadata": {
    "collapsed": true
   },
   "outputs": [],
   "source": []
  },
  {
   "cell_type": "code",
   "execution_count": null,
   "metadata": {
    "collapsed": true
   },
   "outputs": [],
   "source": []
  },
  {
   "cell_type": "code",
   "execution_count": null,
   "metadata": {
    "collapsed": true
   },
   "outputs": [],
   "source": []
  },
  {
   "cell_type": "code",
   "execution_count": null,
   "metadata": {
    "collapsed": true
   },
   "outputs": [],
   "source": []
  },
  {
   "cell_type": "code",
   "execution_count": null,
   "metadata": {
    "collapsed": true
   },
   "outputs": [],
   "source": []
  }
 ],
 "metadata": {
  "kernelspec": {
   "display_name": "Python [default]",
   "language": "python",
   "name": "python3"
  },
  "language_info": {
   "codemirror_mode": {
    "name": "ipython",
    "version": 3
   },
   "file_extension": ".py",
   "mimetype": "text/x-python",
   "name": "python",
   "nbconvert_exporter": "python",
   "pygments_lexer": "ipython3",
   "version": "3.5.2"
  }
 },
 "nbformat": 4,
 "nbformat_minor": 1
}
