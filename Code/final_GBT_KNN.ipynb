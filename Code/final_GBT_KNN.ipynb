{
 "cells": [
  {
   "cell_type": "code",
   "execution_count": 13,
   "metadata": {
    "collapsed": true
   },
   "outputs": [],
   "source": [
    "import numpy as np\n",
    "import pandas as pd\n",
    "from sklearn.model_selection import GridSearchCV\n",
    "from sklearn.pipeline import Pipeline\n",
    "from sklearn.ensemble import GradientBoostingClassifier\n",
    "from sklearn.base import BaseEstimator,TransformerMixin\n",
    "import os"
   ]
  },
  {
   "cell_type": "code",
   "execution_count": 2,
   "metadata": {
    "collapsed": true
   },
   "outputs": [],
   "source": [
    "class Data:\n",
    "    \n",
    "    def __init__(self,train_path,test_path,cible_path,header_path,sep): \n",
    "        \n",
    "        import pandas as pd\n",
    "    \n",
    "        self.train_path=train_path\n",
    "        self.test_path=test_path\n",
    "        self.cible_path=cible_path\n",
    "        self.header_path=header_path\n",
    "        self.sep=sep\n",
    "        self.train=pd.read_table(self.train_path, sep=self.sep,header=None)\n",
    "        self.test=pd.read_table(self.test_path, sep=self.sep,header=None)\n",
    "        self.cible=pd.read_table(self.cible_path,sep=self.sep,header=None)\n",
    "        self.header=pd.read_csv(self.header_path,sep=self.sep,header=None)\n",
    "               \n",
    "    @property\n",
    "    def test_path(self):\n",
    "        return self._test_path\n",
    "\n",
    "    @test_path.setter\n",
    "    def test_path(self, v):\n",
    "        self._test_path  =  v \n",
    "        \n",
    "    @property\n",
    "    def train_path(self):\n",
    "        return self._train_path\n",
    "\n",
    "    @train_path.setter\n",
    "    def train_path(self, v):\n",
    "        self._train_path  =  v \n",
    "        \n",
    "    @property\n",
    "    def train(self):\n",
    "        return self._train\n",
    "\n",
    "    @train.setter\n",
    "    def train(self, v):\n",
    "        self._train  =  v\n",
    "        \n",
    "    @property\n",
    "    def alldata(self):\n",
    "        return self._alldata\n",
    "\n",
    "    @alldata.setter\n",
    "    def alldata(self, v):\n",
    "        self._alldata  =  v \n",
    "        \n",
    "    @property\n",
    "    def header(self):\n",
    "        return self._header\n",
    "\n",
    "    @header.setter\n",
    "    def header(self, v):\n",
    "        self._header  =  v\n",
    "        \n",
    "    @property\n",
    "    def cible(self):\n",
    "        return self._cible\n",
    "\n",
    "    @cible.setter\n",
    "    def cible(self, v):\n",
    "        self._cible  =  v \n",
    "                \n",
    "    @property\n",
    "    def sep(self):\n",
    "        return self._sep\n",
    "\n",
    "    @sep.setter\n",
    "    def sep(self, v):\n",
    "        self._sep  =  v \n",
    "        \n",
    "    @property\n",
    "    def feature_name(self):\n",
    "        return self._feature_name\n",
    "\n",
    "    @feature_name.setter\n",
    "    def feature_name(self, v):\n",
    "        self._feature_name  =  v \n",
    "    \n",
    "    # Create a the list of features name based on the header\n",
    "    def createFeaturesName(self,indexToRemove,colToRemove,name='xForm'):\n",
    "        self.feature_name=self.header.drop(self.header.columns[colToRemove], axis=1)\n",
    "        if name=='xForm':    \n",
    "            self.feature_name=self.feature_name.drop(self.feature_name.index[indexToRemove])[1]\n",
    "        else:\n",
    "            self.feature_name=self.feature_name.drop(self.feature_name.index[indexToRemove])[3]\n",
    "\n",
    "    # Put headers to the data      \n",
    "    def nameData(self):\n",
    "        self.train.columns=self.feature_name\n",
    "        self.test.columns=self.feature_name\n",
    "        \n",
    "        return self\n",
    "        \n",
    "    # Put Train/Test together     \n",
    "    def joinData(self):\n",
    "        \n",
    "        import pandas as pd\n",
    "\n",
    "        frames=[self.train,self.test]\n",
    "        self.alldata= pd.concat(frames,keys=['train','test'])\n",
    "        \n",
    "        return self\n",
    "\n",
    "    # Sous fonction à généralier..\n",
    "    def oneHot(self,on='all'):\n",
    "        if on=='all':\n",
    "            self.alldata['x51']=self.alldata['x51']-2011\n",
    "        \n",
    "        return self\n",
    "    \n",
    "    \n",
    "    def takeTrain(self):\n",
    "    \n",
    "        return self.alldata.ix['train']\n",
    " \n",
    " \n",
    "    def takeTest(self):\n",
    "    \n",
    "        return self.alldata.ix['test']"
   ]
  },
  {
   "cell_type": "code",
   "execution_count": 3,
   "metadata": {
    "collapsed": false
   },
   "outputs": [],
   "source": [
    "class CreateAllData(TransformerMixin):\n",
    "    \n",
    "    \"\"\" Add the test to train \"\"\"\n",
    "\n",
    "    def __init__(self,testSet):\n",
    "        self.testSet=testSet\n",
    "        \n",
    "    def fit(self,X,y=None):\n",
    "        return self\n",
    "    \n",
    "    def transform(self,X):\n",
    "        \n",
    "        import pandas as pd\n",
    "\n",
    "        frames=[X,self.testSet]\n",
    "        alldata= pd.concat(frames,keys=['train','test'])\n",
    "             \n",
    "        return alldata\n",
    "    \n",
    "    def get_params(self, deep=True):\n",
    "        return {\"testSet\": self.testSet}\n",
    "\n",
    "    def set_params(self, **parameters):\n",
    "        self.testSet = parameters[\"testSet\"]\n",
    "        return self\n",
    "    "
   ]
  },
  {
   "cell_type": "code",
   "execution_count": 4,
   "metadata": {
    "collapsed": false
   },
   "outputs": [],
   "source": [
    "class Drop(TransformerMixin):\n",
    "    \n",
    "    \"\"\" Scale data\"\"\"\n",
    "\n",
    "    def __init__(self,colsToDrop):\n",
    "        self.colsToDrop=colsToDrop\n",
    "        \n",
    "    def fit(self,X,y=None):\n",
    "        return self\n",
    "    \n",
    "    def transform(self,X):\n",
    "        \n",
    "        alldata_scale=X.drop(X[self.colsToDrop], axis=1)\n",
    "             \n",
    "        return alldata_scale\n",
    "    \n",
    "    def get_params(self, deep=True):\n",
    "        return {\"colsToDrop\": self.colsToDrop}\n",
    "\n",
    "    def set_params(self, **parameters):\n",
    "        self.colsToDrop = parameters[\"colsToDrop\"]\n",
    "        return self\n",
    "    "
   ]
  },
  {
   "cell_type": "code",
   "execution_count": 5,
   "metadata": {
    "collapsed": true
   },
   "outputs": [],
   "source": [
    "class Scale(TransformerMixin):\n",
    "    \n",
    "    \"\"\" Scale data à faire évoluer : ne scaler que les 2012, et pas scaler la colonne 51\"\"\"\n",
    "    \n",
    "    def __init__(self,methode,typeScaling):\n",
    "        self.methode=methode\n",
    "        self.typeScaling=typeScaling\n",
    "\n",
    "    def fit(self,X,y=None):\n",
    "        return self\n",
    "    \n",
    "    def transform(self,X):\n",
    "        # Ca ne scale pas la colonne year et ça ne scale que l'année 2012\n",
    "        scaleX=X\n",
    "        index2012=np.where(X['x51']==1)\n",
    "        \n",
    "        if self.typeScaling=='normalized':\n",
    "        \n",
    "            if self.methode=='2012':\n",
    "                for j in range(len(X.columns)-1):\n",
    "                    scaleX.iloc[:,j][index2012[0]]=(X.iloc[:,j][index2012[0]]-X.iloc[:,j][index2012[0]].mean())/X.iloc[:,j][index2012[0]].var()\n",
    "        \n",
    "            if self.methode=='all':\n",
    "                for j in range(len(X.columns)-1):\n",
    "                    scaleX.iloc[:,j]=(X.iloc[:,j]-X.iloc[:,j].mean())/X.iloc[:,j].var()\n",
    "                \n",
    "            if self.methode=='noScale':\n",
    "                  scaleX=X\n",
    "                    \n",
    "        if self.typeScaling=='minmax':\n",
    "            \n",
    "            if self.methode=='2012':\n",
    "                for j in range(len(X.columns)-1):\n",
    "                    scaleX.iloc[:,j][index2012[0]]=(X.iloc[:,j][index2012[0]]-X.iloc[:,j][index2012[0]].min())/(X.iloc[:,j][index2012[0]].max()-X.iloc[:,j][index2012[0]].min())\n",
    "        \n",
    "            if self.methode=='all':\n",
    "                for j in range(len(X.columns)-1):\n",
    "                    scaleX.iloc[:,j]=(X.iloc[:,j]-X.iloc[:,j].min())/(X.iloc[:,j].max()-X.iloc[:,j].min())\n",
    "                \n",
    "            if self.methode=='noScale':\n",
    "                  scaleX=X\n",
    "            \n",
    "             \n",
    "        return scaleX\n",
    "    \n",
    "    def get_params(self, deep=True):\n",
    "        return {\"methode\": self.methode,\"typeScaling\":typeScaling}\n",
    "\n",
    "    def set_params(self, **parameters):\n",
    "        self.methode = parameters[\"name\"]\n",
    "        self.typeScaling = parameters[\"typeScaling\"]\n",
    "        return self\n",
    "    "
   ]
  },
  {
   "cell_type": "code",
   "execution_count": 6,
   "metadata": {
    "collapsed": true
   },
   "outputs": [],
   "source": [
    "class FillNaN_KNN(TransformerMixin):\n",
    "    \n",
    "    \"\"\" Fill Nan is data using KNN implementation of fancyimpute\"\"\"\n",
    "    \n",
    "    def __init__(self,k):\n",
    "        self.k=k\n",
    "\n",
    "    def fit(self,X,y=None):\n",
    "        return self\n",
    "    \n",
    "    def transform(self,X):\n",
    "        from fancyimpute import KNN\n",
    "        \n",
    "        alldata_filled = KNN(k=self.k,verbose=False).complete(X)\n",
    "                \n",
    "        return alldata_filled\n",
    "        \n",
    "    def get_params(self, deep=True):\n",
    "        return {\"k\": self.k}\n",
    "\n",
    "    def set_params(self, **parameters):\n",
    "        self.k = parameters[\"k\"]\n",
    "        return self"
   ]
  },
  {
   "cell_type": "code",
   "execution_count": 7,
   "metadata": {
    "collapsed": true
   },
   "outputs": [],
   "source": [
    "class RebuildDF(TransformerMixin):\n",
    "    \n",
    "    \"\"\"Rebuild from an ndarray a Dataframe with the original index\"\"\"\n",
    "    \n",
    "    def __init__(self,dataInit,colsToAdd):\n",
    "        self.dataInit=dataInit\n",
    "        self.colsToAdd=colsToAdd\n",
    "\n",
    "    def fit(self,X,y=None):\n",
    "        return self\n",
    "    \n",
    "    def transform(self,X):\n",
    "        import pandas as pd\n",
    "        \n",
    "        datacomplete=pd.DataFrame(X)\n",
    "        #datacomplete.index=self.dataInit.index\n",
    "        #datacomplete[self.colsToAdd]=self.dataInit[self.colsToAdd]\n",
    "        #datacomplete.columns=self.dataInit.columns\n",
    "\n",
    "        \n",
    "        return datacomplete\n",
    "    \n",
    "    def get_params(self, deep=True):\n",
    "        return {\"dataInit\": self.dataInit,\"colsToAdd\": self.colsToAdd}\n",
    "\n",
    "    def set_params(self, **parameters):\n",
    "        self.dataInit = parameters[\"dataInit\"]\n",
    "        self.colsToAdd = parameters[\"colsToAdd\"]\n",
    "        return self\n",
    "    "
   ]
  },
  {
   "cell_type": "code",
   "execution_count": 8,
   "metadata": {
    "collapsed": true
   },
   "outputs": [],
   "source": [
    "class Take_train(TransformerMixin):\n",
    "    \n",
    "    \"\"\"Rebuild from an ndarray a Dataframe with the original index\"\"\"\n",
    "    \n",
    "    def __init__(self,name):\n",
    "        self.name=name\n",
    "        \n",
    "    def fit(self,X,y=None):\n",
    "        return self\n",
    "    \n",
    "    def transform(self,X):\n",
    "        import numpy as np\n",
    "        train=X.ix['train']\n",
    "                \n",
    "        return train\n",
    "    \n",
    "    def get_params(self, deep=True):\n",
    "        return {\"name\": self.name}\n",
    "\n",
    "    def set_params(self, **parameters):\n",
    "        self.name = parameters[\"name\"]\n",
    "        return self\n",
    "    "
   ]
  },
  {
   "cell_type": "markdown",
   "metadata": {},
   "source": [
    "# Test\n"
   ]
  },
  {
   "cell_type": "code",
   "execution_count": 27,
   "metadata": {
    "collapsed": false
   },
   "outputs": [
    {
     "data": {
      "text/plain": [
       "<__main__.Data at 0x10eb81438>"
      ]
     },
     "execution_count": 27,
     "metadata": {},
     "output_type": "execute_result"
    }
   ],
   "source": [
    "data=Data(train_path=\"../Data_competition/X_train.txt\"\n",
    "                      ,test_path=\"../Data_competition/X_test.txt\"\n",
    "                      ,cible_path=\"../Data_competition/y_train.txt\"\n",
    "                      ,header_path=\"../Data_competition/header.csv\"\n",
    "                      ,sep=',')\n",
    "\n",
    "data.createFeaturesName(colToRemove=[2],indexToRemove=[56,49,30,20,14,0,38],name='xForm')\n",
    "data.nameData().joinData().oneHot()"
   ]
  },
  {
   "cell_type": "code",
   "execution_count": 28,
   "metadata": {
    "collapsed": true
   },
   "outputs": [],
   "source": [
    "dir_path='../'\n",
    "result_file='result_grid_10000.csv'\n",
    "import os"
   ]
  },
  {
   "cell_type": "code",
   "execution_count": 29,
   "metadata": {
    "collapsed": false
   },
   "outputs": [
    {
     "name": "stdout",
     "output_type": "stream",
     "text": [
      "Fitting 10 folds for each of 1 candidates, totalling 10 fits\n"
     ]
    },
    {
     "name": "stderr",
     "output_type": "stream",
     "text": [
      "[Parallel(n_jobs=1)]: Done  10 out of  10 | elapsed:   15.3s finished\n"
     ]
    },
    {
     "name": "stdout",
     "output_type": "stream",
     "text": [
      "Fitting 10 folds for each of 1 candidates, totalling 10 fits\n"
     ]
    },
    {
     "name": "stderr",
     "output_type": "stream",
     "text": [
      "[Parallel(n_jobs=1)]: Done  10 out of  10 | elapsed:   15.3s finished\n"
     ]
    },
    {
     "name": "stdout",
     "output_type": "stream",
     "text": [
      "Fitting 10 folds for each of 1 candidates, totalling 10 fits\n"
     ]
    },
    {
     "name": "stderr",
     "output_type": "stream",
     "text": [
      "[Parallel(n_jobs=1)]: Done  10 out of  10 | elapsed:   15.2s finished\n"
     ]
    },
    {
     "name": "stdout",
     "output_type": "stream",
     "text": [
      "Fitting 10 folds for each of 1 candidates, totalling 10 fits\n"
     ]
    },
    {
     "name": "stderr",
     "output_type": "stream",
     "text": [
      "[Parallel(n_jobs=1)]: Done  10 out of  10 | elapsed:   13.4s finished\n"
     ]
    },
    {
     "name": "stdout",
     "output_type": "stream",
     "text": [
      "Fitting 10 folds for each of 1 candidates, totalling 10 fits\n"
     ]
    },
    {
     "name": "stderr",
     "output_type": "stream",
     "text": [
      "[Parallel(n_jobs=1)]: Done  10 out of  10 | elapsed:   14.2s finished\n"
     ]
    },
    {
     "name": "stdout",
     "output_type": "stream",
     "text": [
      "Fitting 10 folds for each of 1 candidates, totalling 10 fits\n"
     ]
    },
    {
     "name": "stderr",
     "output_type": "stream",
     "text": [
      "[Parallel(n_jobs=1)]: Done  10 out of  10 | elapsed:   14.2s finished\n"
     ]
    },
    {
     "name": "stdout",
     "output_type": "stream",
     "text": [
      "Fitting 10 folds for each of 1 candidates, totalling 10 fits\n"
     ]
    },
    {
     "name": "stderr",
     "output_type": "stream",
     "text": [
      "[Parallel(n_jobs=1)]: Done  10 out of  10 | elapsed:   15.6s finished\n"
     ]
    },
    {
     "name": "stdout",
     "output_type": "stream",
     "text": [
      "Fitting 10 folds for each of 1 candidates, totalling 10 fits\n"
     ]
    },
    {
     "name": "stderr",
     "output_type": "stream",
     "text": [
      "[Parallel(n_jobs=1)]: Done  10 out of  10 | elapsed:   15.6s finished\n"
     ]
    },
    {
     "name": "stdout",
     "output_type": "stream",
     "text": [
      "Fitting 10 folds for each of 1 candidates, totalling 10 fits\n"
     ]
    },
    {
     "name": "stderr",
     "output_type": "stream",
     "text": [
      "[Parallel(n_jobs=1)]: Done  10 out of  10 | elapsed:   15.8s finished\n"
     ]
    },
    {
     "name": "stdout",
     "output_type": "stream",
     "text": [
      "Fitting 10 folds for each of 1 candidates, totalling 10 fits\n"
     ]
    },
    {
     "name": "stderr",
     "output_type": "stream",
     "text": [
      "[Parallel(n_jobs=1)]: Done  10 out of  10 | elapsed:   14.0s finished\n"
     ]
    },
    {
     "name": "stdout",
     "output_type": "stream",
     "text": [
      "Fitting 10 folds for each of 1 candidates, totalling 10 fits\n"
     ]
    },
    {
     "name": "stderr",
     "output_type": "stream",
     "text": [
      "[Parallel(n_jobs=1)]: Done  10 out of  10 | elapsed:   16.4s finished\n"
     ]
    },
    {
     "name": "stdout",
     "output_type": "stream",
     "text": [
      "Fitting 10 folds for each of 1 candidates, totalling 10 fits\n"
     ]
    },
    {
     "name": "stderr",
     "output_type": "stream",
     "text": [
      "[Parallel(n_jobs=1)]: Done  10 out of  10 | elapsed:   16.3s finished\n"
     ]
    },
    {
     "name": "stdout",
     "output_type": "stream",
     "text": [
      "Fitting 10 folds for each of 1 candidates, totalling 10 fits\n"
     ]
    },
    {
     "name": "stderr",
     "output_type": "stream",
     "text": [
      "[Parallel(n_jobs=1)]: Done  10 out of  10 | elapsed:   18.1s finished\n"
     ]
    },
    {
     "name": "stdout",
     "output_type": "stream",
     "text": [
      "Fitting 10 folds for each of 1 candidates, totalling 10 fits\n"
     ]
    },
    {
     "name": "stderr",
     "output_type": "stream",
     "text": [
      "[Parallel(n_jobs=1)]: Done  10 out of  10 | elapsed:   18.0s finished\n"
     ]
    },
    {
     "name": "stdout",
     "output_type": "stream",
     "text": [
      "Fitting 10 folds for each of 1 candidates, totalling 10 fits\n"
     ]
    },
    {
     "name": "stderr",
     "output_type": "stream",
     "text": [
      "[Parallel(n_jobs=1)]: Done  10 out of  10 | elapsed:   17.9s finished\n"
     ]
    },
    {
     "name": "stdout",
     "output_type": "stream",
     "text": [
      "Fitting 10 folds for each of 1 candidates, totalling 10 fits\n"
     ]
    },
    {
     "name": "stderr",
     "output_type": "stream",
     "text": [
      "[Parallel(n_jobs=1)]: Done  10 out of  10 | elapsed:   16.1s finished\n"
     ]
    },
    {
     "name": "stdout",
     "output_type": "stream",
     "text": [
      "Fitting 10 folds for each of 1 candidates, totalling 10 fits\n"
     ]
    },
    {
     "name": "stderr",
     "output_type": "stream",
     "text": [
      "[Parallel(n_jobs=1)]: Done  10 out of  10 | elapsed:   33.5s finished\n"
     ]
    },
    {
     "name": "stdout",
     "output_type": "stream",
     "text": [
      "Fitting 10 folds for each of 1 candidates, totalling 10 fits\n"
     ]
    },
    {
     "name": "stderr",
     "output_type": "stream",
     "text": [
      "[Parallel(n_jobs=1)]: Done  10 out of  10 | elapsed:   33.8s finished\n"
     ]
    },
    {
     "name": "stdout",
     "output_type": "stream",
     "text": [
      "Fitting 10 folds for each of 1 candidates, totalling 10 fits\n"
     ]
    },
    {
     "name": "stderr",
     "output_type": "stream",
     "text": [
      "[Parallel(n_jobs=1)]: Done  10 out of  10 | elapsed:   32.2s finished\n"
     ]
    },
    {
     "name": "stdout",
     "output_type": "stream",
     "text": [
      "Fitting 10 folds for each of 1 candidates, totalling 10 fits\n"
     ]
    },
    {
     "name": "stderr",
     "output_type": "stream",
     "text": [
      "[Parallel(n_jobs=1)]: Done  10 out of  10 | elapsed:   30.7s finished\n"
     ]
    },
    {
     "name": "stdout",
     "output_type": "stream",
     "text": [
      "Fitting 10 folds for each of 1 candidates, totalling 10 fits\n"
     ]
    },
    {
     "name": "stderr",
     "output_type": "stream",
     "text": [
      "[Parallel(n_jobs=1)]: Done  10 out of  10 | elapsed:   30.8s finished\n"
     ]
    },
    {
     "name": "stdout",
     "output_type": "stream",
     "text": [
      "Fitting 10 folds for each of 1 candidates, totalling 10 fits\n"
     ]
    },
    {
     "name": "stderr",
     "output_type": "stream",
     "text": [
      "[Parallel(n_jobs=1)]: Done  10 out of  10 | elapsed:   33.4s finished\n"
     ]
    },
    {
     "name": "stdout",
     "output_type": "stream",
     "text": [
      "Fitting 10 folds for each of 1 candidates, totalling 10 fits\n"
     ]
    },
    {
     "name": "stderr",
     "output_type": "stream",
     "text": [
      "[Parallel(n_jobs=1)]: Done  10 out of  10 | elapsed:   24.0s finished\n"
     ]
    },
    {
     "name": "stdout",
     "output_type": "stream",
     "text": [
      "Fitting 10 folds for each of 1 candidates, totalling 10 fits\n"
     ]
    },
    {
     "name": "stderr",
     "output_type": "stream",
     "text": [
      "[Parallel(n_jobs=1)]: Done  10 out of  10 | elapsed:   23.6s finished\n"
     ]
    },
    {
     "name": "stdout",
     "output_type": "stream",
     "text": [
      "Fitting 10 folds for each of 1 candidates, totalling 10 fits\n"
     ]
    },
    {
     "name": "stderr",
     "output_type": "stream",
     "text": [
      "[Parallel(n_jobs=1)]: Done  10 out of  10 | elapsed:   21.8s finished\n"
     ]
    },
    {
     "name": "stdout",
     "output_type": "stream",
     "text": [
      "Fitting 10 folds for each of 1 candidates, totalling 10 fits\n"
     ]
    },
    {
     "name": "stderr",
     "output_type": "stream",
     "text": [
      "[Parallel(n_jobs=1)]: Done  10 out of  10 | elapsed:   21.8s finished\n"
     ]
    },
    {
     "name": "stdout",
     "output_type": "stream",
     "text": [
      "Fitting 10 folds for each of 1 candidates, totalling 10 fits\n"
     ]
    },
    {
     "name": "stderr",
     "output_type": "stream",
     "text": [
      "[Parallel(n_jobs=1)]: Done  10 out of  10 | elapsed:   21.7s finished\n"
     ]
    },
    {
     "name": "stdout",
     "output_type": "stream",
     "text": [
      "Fitting 10 folds for each of 1 candidates, totalling 10 fits\n"
     ]
    },
    {
     "name": "stderr",
     "output_type": "stream",
     "text": [
      "[Parallel(n_jobs=1)]: Done  10 out of  10 | elapsed:   23.8s finished\n"
     ]
    },
    {
     "name": "stdout",
     "output_type": "stream",
     "text": [
      "Fitting 10 folds for each of 1 candidates, totalling 10 fits\n"
     ]
    },
    {
     "name": "stderr",
     "output_type": "stream",
     "text": [
      "[Parallel(n_jobs=1)]: Done  10 out of  10 | elapsed:   18.4s finished\n"
     ]
    },
    {
     "name": "stdout",
     "output_type": "stream",
     "text": [
      "Fitting 10 folds for each of 1 candidates, totalling 10 fits\n"
     ]
    },
    {
     "name": "stderr",
     "output_type": "stream",
     "text": [
      "[Parallel(n_jobs=1)]: Done  10 out of  10 | elapsed:   18.4s finished\n"
     ]
    },
    {
     "name": "stdout",
     "output_type": "stream",
     "text": [
      "Fitting 10 folds for each of 1 candidates, totalling 10 fits\n"
     ]
    },
    {
     "name": "stderr",
     "output_type": "stream",
     "text": [
      "[Parallel(n_jobs=1)]: Done  10 out of  10 | elapsed:   17.2s finished\n"
     ]
    },
    {
     "name": "stdout",
     "output_type": "stream",
     "text": [
      "Fitting 10 folds for each of 1 candidates, totalling 10 fits\n"
     ]
    },
    {
     "name": "stderr",
     "output_type": "stream",
     "text": [
      "[Parallel(n_jobs=1)]: Done  10 out of  10 | elapsed:   17.1s finished\n"
     ]
    },
    {
     "name": "stdout",
     "output_type": "stream",
     "text": [
      "Fitting 10 folds for each of 1 candidates, totalling 10 fits\n"
     ]
    },
    {
     "name": "stderr",
     "output_type": "stream",
     "text": [
      "[Parallel(n_jobs=1)]: Done  10 out of  10 | elapsed:   17.1s finished\n"
     ]
    },
    {
     "name": "stdout",
     "output_type": "stream",
     "text": [
      "Fitting 10 folds for each of 1 candidates, totalling 10 fits\n"
     ]
    },
    {
     "name": "stderr",
     "output_type": "stream",
     "text": [
      "[Parallel(n_jobs=1)]: Done  10 out of  10 | elapsed:   19.8s finished\n"
     ]
    },
    {
     "name": "stdout",
     "output_type": "stream",
     "text": [
      "Fitting 10 folds for each of 1 candidates, totalling 10 fits\n"
     ]
    },
    {
     "name": "stderr",
     "output_type": "stream",
     "text": [
      "[Parallel(n_jobs=1)]: Done  10 out of  10 | elapsed:   18.5s finished\n"
     ]
    },
    {
     "name": "stdout",
     "output_type": "stream",
     "text": [
      "Fitting 10 folds for each of 1 candidates, totalling 10 fits\n"
     ]
    },
    {
     "name": "stderr",
     "output_type": "stream",
     "text": [
      "[Parallel(n_jobs=1)]: Done  10 out of  10 | elapsed:   17.6s finished\n"
     ]
    }
   ],
   "source": [
    "text_file = open(os.path.join(dir_path, result_file), 'w')\n",
    "for k in range(6,12):\n",
    "    for typeScaling in ['minmax','normalized'] :\n",
    "        for methode in ['2012','all','noScale'] :\n",
    "\n",
    "            pipeline=Pipeline([ ('scale',Scale(methode=methode,typeScaling=typeScaling))\n",
    "                   ,('knn', FillNaN_KNN(k=k))\n",
    "                   ,('rebuildDF',RebuildDF(data.alldata,['x51']))\n",
    "                    ])\n",
    "\n",
    "\n",
    "            tuned_parameters = [{'loss': ['deviance'],\n",
    "                    'max_features':[5],\n",
    "                    'max_depth':[5],\n",
    "                    'n_estimators':[1500]}]\n",
    "\n",
    "\n",
    "            clf = GridSearchCV(GradientBoostingClassifier(), tuned_parameters, cv=10,verbose=1)\n",
    "            clf.fit(pipeline.transform(data.takeTrain()),data.cible[0].values)\n",
    "       \n",
    "    \n",
    "            print('--------------------------', file=text_file)\n",
    "            print(\"KNN :\"+str(k), file=text_file)\n",
    "            print(\"methode :\"+ methode, file=text_file)\n",
    "            print(\"Scaling :\"+ typeScaling, file=text_file)\n",
    "\n",
    "            print('', file=text_file)\n",
    "            print(\"Best parameters set found on development set:\", file=text_file)\n",
    "            print('', file=text_file)\n",
    "            print(clf.best_params_, file=text_file)\n",
    "            print('', file=text_file)\n",
    "\n",
    "            print(\"Grid scores on development set:\", file=text_file)\n",
    "            print('', file=text_file)\n",
    "            means = clf.cv_results_['mean_test_score']\n",
    "            stds = clf.cv_results_['std_test_score']\n",
    "            for mean, std, params in zip(means, stds, clf.cv_results_['params']):\n",
    "                print(\"%0.3f (+/-%0.03f) for %r\"\n",
    "                    % (mean, std * 2, params), file=text_file)\n",
    "            print('', file=text_file)\n",
    "        \n",
    "text_file.close()"
   ]
  },
  {
   "cell_type": "markdown",
   "metadata": {},
   "source": [
    "# Submission"
   ]
  },
  {
   "cell_type": "code",
   "execution_count": 254,
   "metadata": {
    "collapsed": false
   },
   "outputs": [
    {
     "data": {
      "text/plain": [
       "<__main__.Data at 0x1121e8898>"
      ]
     },
     "execution_count": 254,
     "metadata": {},
     "output_type": "execute_result"
    }
   ],
   "source": [
    "data=Data(train_path=\"../Data_competition/X_train.txt\"\n",
    "                      ,test_path=\"../Data_competition/X_test.txt\"\n",
    "                      ,cible_path=\"../Data_competition/y_train.txt\"\n",
    "                      ,header_path=\"../Data_competition/header.csv\"\n",
    "                      ,sep=',')\n",
    "\n",
    "data.createFeaturesName(colToRemove=[2],indexToRemove=[56,49,30,20,14,0,38],name='xForm')\n",
    "data.nameData().joinData().oneHot()"
   ]
  },
  {
   "cell_type": "code",
   "execution_count": 255,
   "metadata": {
    "collapsed": true
   },
   "outputs": [],
   "source": [
    "pipeline=Pipeline([ ('scale',Scale('noScale'))\n",
    "                   ,('knn', FillNaN_KNN(k=10))\n",
    "                   ,('rebuildDF',RebuildDF(data.alldata,['x51']))\n",
    "                    ])"
   ]
  },
  {
   "cell_type": "code",
   "execution_count": 256,
   "metadata": {
    "collapsed": false
   },
   "outputs": [
    {
     "data": {
      "text/plain": [
       "GradientBoostingClassifier(criterion='friedman_mse', init=None,\n",
       "              learning_rate=0.1, loss='deviance', max_depth=3,\n",
       "              max_features=10, max_leaf_nodes=None,\n",
       "              min_impurity_split=1e-07, min_samples_leaf=1,\n",
       "              min_samples_split=2, min_weight_fraction_leaf=0.0,\n",
       "              n_estimators=500, presort='auto', random_state=None,\n",
       "              subsample=1.0, verbose=0, warm_start=False)"
      ]
     },
     "execution_count": 256,
     "metadata": {},
     "output_type": "execute_result"
    }
   ],
   "source": [
    "clf = GradientBoostingClassifier(max_features=10,max_depth=3,n_estimators=500,loss='deviance')\n",
    "clf.fit(pipeline.transform(data.takeTrain()),data.cible[0].values)"
   ]
  },
  {
   "cell_type": "code",
   "execution_count": 257,
   "metadata": {
    "collapsed": false
   },
   "outputs": [],
   "source": [
    "y_pred_clf=clf.predict(pipeline.transform(data.takeTest()))\n",
    "\n",
    "index=range(len(y_pred_clf))\n",
    "data=np.transpose([index,y_pred_clf])\n",
    "a = pd.DataFrame(data=data,columns=['Id','Prediction'])\n",
    "a.to_csv(\"submission12.csv\", sep=\",\",index=False)"
   ]
  },
  {
   "cell_type": "markdown",
   "metadata": {},
   "source": [
    "# KNN on all and take the train test from all"
   ]
  },
  {
   "cell_type": "code",
   "execution_count": 258,
   "metadata": {
    "collapsed": false
   },
   "outputs": [
    {
     "data": {
      "text/plain": [
       "<__main__.Data at 0x10fd62c50>"
      ]
     },
     "execution_count": 258,
     "metadata": {},
     "output_type": "execute_result"
    }
   ],
   "source": [
    "data=Data(train_path=\"../Data_competition/X_train.txt\"\n",
    "                      ,test_path=\"../Data_competition/X_test.txt\"\n",
    "                      ,cible_path=\"../Data_competition/y_train.txt\"\n",
    "                      ,header_path=\"../Data_competition/header.csv\"\n",
    "                      ,sep=',')\n",
    "\n",
    "data.createFeaturesName(colToRemove=[2],indexToRemove=[56,49,30,20,14,0,38],name='xForm')\n",
    "data.nameData().joinData().oneHot()"
   ]
  },
  {
   "cell_type": "code",
   "execution_count": 245,
   "metadata": {
    "collapsed": true
   },
   "outputs": [],
   "source": [
    "pipeline=Pipeline([ ('scale',Scale(methode))\n",
    "                   ,('knn', FillNaN_KNN(k=k))\n",
    "                   ,('rebuildDF',RebuildDF(data.alldata,['x51']))\n",
    "                    ])"
   ]
  },
  {
   "cell_type": "code",
   "execution_count": 247,
   "metadata": {
    "collapsed": false
   },
   "outputs": [],
   "source": [
    "X=pipeline.transform(data.alldata)\n",
    "X.index=data.alldata.index"
   ]
  },
  {
   "cell_type": "code",
   "execution_count": 248,
   "metadata": {
    "collapsed": false
   },
   "outputs": [
    {
     "data": {
      "text/html": [
       "<div>\n",
       "<table border=\"1\" class=\"dataframe\">\n",
       "  <thead>\n",
       "    <tr style=\"text-align: right;\">\n",
       "      <th></th>\n",
       "      <th></th>\n",
       "      <th>0</th>\n",
       "      <th>1</th>\n",
       "      <th>2</th>\n",
       "      <th>3</th>\n",
       "      <th>4</th>\n",
       "      <th>5</th>\n",
       "      <th>6</th>\n",
       "      <th>7</th>\n",
       "      <th>8</th>\n",
       "      <th>9</th>\n",
       "      <th>...</th>\n",
       "      <th>41</th>\n",
       "      <th>42</th>\n",
       "      <th>43</th>\n",
       "      <th>44</th>\n",
       "      <th>45</th>\n",
       "      <th>46</th>\n",
       "      <th>47</th>\n",
       "      <th>48</th>\n",
       "      <th>49</th>\n",
       "      <th>50</th>\n",
       "    </tr>\n",
       "  </thead>\n",
       "  <tbody>\n",
       "    <tr>\n",
       "      <th rowspan=\"5\" valign=\"top\">train</th>\n",
       "      <th>0</th>\n",
       "      <td>0.491722</td>\n",
       "      <td>1.264287</td>\n",
       "      <td>-0.158577</td>\n",
       "      <td>-0.150768</td>\n",
       "      <td>1.087627</td>\n",
       "      <td>0.157166</td>\n",
       "      <td>-1.053879</td>\n",
       "      <td>-1.116961</td>\n",
       "      <td>-0.145423</td>\n",
       "      <td>0.353896</td>\n",
       "      <td>...</td>\n",
       "      <td>-0.046952</td>\n",
       "      <td>-0.599092</td>\n",
       "      <td>-0.582634</td>\n",
       "      <td>0.342332</td>\n",
       "      <td>0.967435</td>\n",
       "      <td>5.284473</td>\n",
       "      <td>0.409764</td>\n",
       "      <td>-0.430782</td>\n",
       "      <td>-0.797375</td>\n",
       "      <td>0.0</td>\n",
       "    </tr>\n",
       "    <tr>\n",
       "      <th>1</th>\n",
       "      <td>-0.249351</td>\n",
       "      <td>0.046088</td>\n",
       "      <td>-0.040435</td>\n",
       "      <td>0.105421</td>\n",
       "      <td>-1.098919</td>\n",
       "      <td>0.289237</td>\n",
       "      <td>-0.338154</td>\n",
       "      <td>0.129297</td>\n",
       "      <td>0.807200</td>\n",
       "      <td>-0.596851</td>\n",
       "      <td>...</td>\n",
       "      <td>0.468655</td>\n",
       "      <td>0.021401</td>\n",
       "      <td>0.527339</td>\n",
       "      <td>-0.291376</td>\n",
       "      <td>0.072317</td>\n",
       "      <td>0.700883</td>\n",
       "      <td>0.922003</td>\n",
       "      <td>0.709037</td>\n",
       "      <td>0.237620</td>\n",
       "      <td>0.0</td>\n",
       "    </tr>\n",
       "    <tr>\n",
       "      <th>2</th>\n",
       "      <td>0.986824</td>\n",
       "      <td>-0.189678</td>\n",
       "      <td>0.059693</td>\n",
       "      <td>0.010147</td>\n",
       "      <td>0.777260</td>\n",
       "      <td>-1.051633</td>\n",
       "      <td>-1.011747</td>\n",
       "      <td>-0.756690</td>\n",
       "      <td>-0.592777</td>\n",
       "      <td>0.874877</td>\n",
       "      <td>...</td>\n",
       "      <td>-0.271227</td>\n",
       "      <td>-0.095384</td>\n",
       "      <td>0.995816</td>\n",
       "      <td>0.004617</td>\n",
       "      <td>0.480180</td>\n",
       "      <td>-0.244837</td>\n",
       "      <td>-0.105363</td>\n",
       "      <td>-0.447816</td>\n",
       "      <td>-0.386229</td>\n",
       "      <td>0.0</td>\n",
       "    </tr>\n",
       "    <tr>\n",
       "      <th>3</th>\n",
       "      <td>-0.265990</td>\n",
       "      <td>-0.517960</td>\n",
       "      <td>-0.114526</td>\n",
       "      <td>-0.073818</td>\n",
       "      <td>1.889234</td>\n",
       "      <td>-0.161217</td>\n",
       "      <td>-0.947844</td>\n",
       "      <td>-0.650268</td>\n",
       "      <td>-0.712451</td>\n",
       "      <td>1.073358</td>\n",
       "      <td>...</td>\n",
       "      <td>-0.049093</td>\n",
       "      <td>-0.378151</td>\n",
       "      <td>0.121491</td>\n",
       "      <td>-0.268029</td>\n",
       "      <td>0.582835</td>\n",
       "      <td>-0.267091</td>\n",
       "      <td>0.408911</td>\n",
       "      <td>-0.755457</td>\n",
       "      <td>-0.526293</td>\n",
       "      <td>0.0</td>\n",
       "    </tr>\n",
       "    <tr>\n",
       "      <th>4</th>\n",
       "      <td>0.199900</td>\n",
       "      <td>-0.095447</td>\n",
       "      <td>0.263825</td>\n",
       "      <td>0.040790</td>\n",
       "      <td>-1.125166</td>\n",
       "      <td>-1.318912</td>\n",
       "      <td>-0.887661</td>\n",
       "      <td>-1.202686</td>\n",
       "      <td>-0.228905</td>\n",
       "      <td>-0.379957</td>\n",
       "      <td>...</td>\n",
       "      <td>-0.568337</td>\n",
       "      <td>-0.180425</td>\n",
       "      <td>0.397132</td>\n",
       "      <td>-0.357907</td>\n",
       "      <td>-0.798888</td>\n",
       "      <td>-0.336643</td>\n",
       "      <td>0.058582</td>\n",
       "      <td>0.033230</td>\n",
       "      <td>-0.535741</td>\n",
       "      <td>0.0</td>\n",
       "    </tr>\n",
       "  </tbody>\n",
       "</table>\n",
       "<p>5 rows × 51 columns</p>\n",
       "</div>"
      ],
      "text/plain": [
       "               0         1         2         3         4         5         6   \\\n",
       "train 0  0.491722  1.264287 -0.158577 -0.150768  1.087627  0.157166 -1.053879   \n",
       "      1 -0.249351  0.046088 -0.040435  0.105421 -1.098919  0.289237 -0.338154   \n",
       "      2  0.986824 -0.189678  0.059693  0.010147  0.777260 -1.051633 -1.011747   \n",
       "      3 -0.265990 -0.517960 -0.114526 -0.073818  1.889234 -0.161217 -0.947844   \n",
       "      4  0.199900 -0.095447  0.263825  0.040790 -1.125166 -1.318912 -0.887661   \n",
       "\n",
       "               7         8         9  ...         41        42        43  \\\n",
       "train 0 -1.116961 -0.145423  0.353896 ...  -0.046952 -0.599092 -0.582634   \n",
       "      1  0.129297  0.807200 -0.596851 ...   0.468655  0.021401  0.527339   \n",
       "      2 -0.756690 -0.592777  0.874877 ...  -0.271227 -0.095384  0.995816   \n",
       "      3 -0.650268 -0.712451  1.073358 ...  -0.049093 -0.378151  0.121491   \n",
       "      4 -1.202686 -0.228905 -0.379957 ...  -0.568337 -0.180425  0.397132   \n",
       "\n",
       "               44        45        46        47        48        49   50  \n",
       "train 0  0.342332  0.967435  5.284473  0.409764 -0.430782 -0.797375  0.0  \n",
       "      1 -0.291376  0.072317  0.700883  0.922003  0.709037  0.237620  0.0  \n",
       "      2  0.004617  0.480180 -0.244837 -0.105363 -0.447816 -0.386229  0.0  \n",
       "      3 -0.268029  0.582835 -0.267091  0.408911 -0.755457 -0.526293  0.0  \n",
       "      4 -0.357907 -0.798888 -0.336643  0.058582  0.033230 -0.535741  0.0  \n",
       "\n",
       "[5 rows x 51 columns]"
      ]
     },
     "execution_count": 248,
     "metadata": {},
     "output_type": "execute_result"
    }
   ],
   "source": [
    "train=X.ix['train']\n",
    "test=X.ix['test']"
   ]
  },
  {
   "cell_type": "code",
   "execution_count": 260,
   "metadata": {
    "collapsed": true
   },
   "outputs": [],
   "source": [
    "dir_path='../'\n",
    "result_file='result_grid_5.csv'"
   ]
  },
  {
   "cell_type": "code",
   "execution_count": 261,
   "metadata": {
    "collapsed": false
   },
   "outputs": [
    {
     "name": "stdout",
     "output_type": "stream",
     "text": [
      "Fitting 10 folds for each of 27 candidates, totalling 270 fits\n"
     ]
    },
    {
     "name": "stderr",
     "output_type": "stream",
     "text": [
      "[Parallel(n_jobs=1)]: Done 270 out of 270 | elapsed:  5.4min finished\n"
     ]
    },
    {
     "name": "stdout",
     "output_type": "stream",
     "text": [
      "Fitting 10 folds for each of 27 candidates, totalling 270 fits\n"
     ]
    },
    {
     "name": "stderr",
     "output_type": "stream",
     "text": [
      "[Parallel(n_jobs=1)]: Done 270 out of 270 | elapsed:  5.5min finished\n"
     ]
    },
    {
     "name": "stdout",
     "output_type": "stream",
     "text": [
      "Fitting 10 folds for each of 27 candidates, totalling 270 fits\n"
     ]
    },
    {
     "name": "stderr",
     "output_type": "stream",
     "text": [
      "[Parallel(n_jobs=1)]: Done 270 out of 270 | elapsed:  5.5min finished\n"
     ]
    },
    {
     "name": "stdout",
     "output_type": "stream",
     "text": [
      "Fitting 10 folds for each of 27 candidates, totalling 270 fits\n"
     ]
    },
    {
     "name": "stderr",
     "output_type": "stream",
     "text": [
      "[Parallel(n_jobs=1)]: Done 270 out of 270 | elapsed:  5.4min finished\n"
     ]
    },
    {
     "name": "stdout",
     "output_type": "stream",
     "text": [
      "Fitting 10 folds for each of 27 candidates, totalling 270 fits\n"
     ]
    },
    {
     "name": "stderr",
     "output_type": "stream",
     "text": [
      "[Parallel(n_jobs=1)]: Done 270 out of 270 | elapsed:  5.4min finished\n"
     ]
    },
    {
     "name": "stdout",
     "output_type": "stream",
     "text": [
      "Fitting 10 folds for each of 27 candidates, totalling 270 fits\n"
     ]
    },
    {
     "name": "stderr",
     "output_type": "stream",
     "text": [
      "[Parallel(n_jobs=1)]: Done 270 out of 270 | elapsed:  5.3min finished\n"
     ]
    },
    {
     "name": "stdout",
     "output_type": "stream",
     "text": [
      "Fitting 10 folds for each of 27 candidates, totalling 270 fits\n"
     ]
    },
    {
     "name": "stderr",
     "output_type": "stream",
     "text": [
      "[Parallel(n_jobs=1)]: Done 270 out of 270 | elapsed: 16.5min finished\n"
     ]
    },
    {
     "name": "stdout",
     "output_type": "stream",
     "text": [
      "Fitting 10 folds for each of 27 candidates, totalling 270 fits\n"
     ]
    },
    {
     "name": "stderr",
     "output_type": "stream",
     "text": [
      "[Parallel(n_jobs=1)]: Done 270 out of 270 | elapsed:  5.3min finished\n"
     ]
    },
    {
     "name": "stdout",
     "output_type": "stream",
     "text": [
      "Fitting 10 folds for each of 27 candidates, totalling 270 fits\n"
     ]
    },
    {
     "name": "stderr",
     "output_type": "stream",
     "text": [
      "[Parallel(n_jobs=1)]: Done 270 out of 270 | elapsed:  5.3min finished\n"
     ]
    },
    {
     "name": "stdout",
     "output_type": "stream",
     "text": [
      "Fitting 10 folds for each of 27 candidates, totalling 270 fits\n"
     ]
    },
    {
     "name": "stderr",
     "output_type": "stream",
     "text": [
      "[Parallel(n_jobs=1)]: Done 270 out of 270 | elapsed:  5.4min finished\n"
     ]
    },
    {
     "name": "stdout",
     "output_type": "stream",
     "text": [
      "Fitting 10 folds for each of 27 candidates, totalling 270 fits\n"
     ]
    },
    {
     "name": "stderr",
     "output_type": "stream",
     "text": [
      "[Parallel(n_jobs=1)]: Done 270 out of 270 | elapsed:  5.3min finished\n"
     ]
    },
    {
     "name": "stdout",
     "output_type": "stream",
     "text": [
      "Fitting 10 folds for each of 27 candidates, totalling 270 fits\n"
     ]
    },
    {
     "name": "stderr",
     "output_type": "stream",
     "text": [
      "[Parallel(n_jobs=1)]: Done 270 out of 270 | elapsed:  5.3min finished\n"
     ]
    },
    {
     "name": "stdout",
     "output_type": "stream",
     "text": [
      "Fitting 10 folds for each of 27 candidates, totalling 270 fits\n"
     ]
    },
    {
     "name": "stderr",
     "output_type": "stream",
     "text": [
      "[Parallel(n_jobs=1)]: Done 270 out of 270 | elapsed:  5.3min finished\n"
     ]
    },
    {
     "name": "stdout",
     "output_type": "stream",
     "text": [
      "Fitting 10 folds for each of 27 candidates, totalling 270 fits\n"
     ]
    },
    {
     "name": "stderr",
     "output_type": "stream",
     "text": [
      "[Parallel(n_jobs=1)]: Done 270 out of 270 | elapsed:  5.3min finished\n"
     ]
    },
    {
     "name": "stdout",
     "output_type": "stream",
     "text": [
      "Fitting 10 folds for each of 27 candidates, totalling 270 fits\n"
     ]
    },
    {
     "name": "stderr",
     "output_type": "stream",
     "text": [
      "[Parallel(n_jobs=1)]: Done 270 out of 270 | elapsed:  5.3min finished\n"
     ]
    },
    {
     "name": "stdout",
     "output_type": "stream",
     "text": [
      "Fitting 10 folds for each of 27 candidates, totalling 270 fits\n"
     ]
    },
    {
     "name": "stderr",
     "output_type": "stream",
     "text": [
      "[Parallel(n_jobs=1)]: Done 270 out of 270 | elapsed: 10.0min finished\n"
     ]
    },
    {
     "name": "stdout",
     "output_type": "stream",
     "text": [
      "Fitting 10 folds for each of 27 candidates, totalling 270 fits\n"
     ]
    },
    {
     "name": "stderr",
     "output_type": "stream",
     "text": [
      "[Parallel(n_jobs=1)]: Done 270 out of 270 | elapsed:  5.4min finished\n"
     ]
    },
    {
     "name": "stdout",
     "output_type": "stream",
     "text": [
      "Fitting 10 folds for each of 27 candidates, totalling 270 fits\n"
     ]
    },
    {
     "name": "stderr",
     "output_type": "stream",
     "text": [
      "[Parallel(n_jobs=1)]: Done 270 out of 270 | elapsed:  5.4min finished\n"
     ]
    },
    {
     "name": "stdout",
     "output_type": "stream",
     "text": [
      "Fitting 10 folds for each of 27 candidates, totalling 270 fits\n"
     ]
    },
    {
     "name": "stderr",
     "output_type": "stream",
     "text": [
      "[Parallel(n_jobs=1)]: Done 270 out of 270 | elapsed:  7.2min finished\n"
     ]
    },
    {
     "name": "stdout",
     "output_type": "stream",
     "text": [
      "Fitting 10 folds for each of 27 candidates, totalling 270 fits\n"
     ]
    },
    {
     "name": "stderr",
     "output_type": "stream",
     "text": [
      "[Parallel(n_jobs=1)]: Done 270 out of 270 | elapsed:  5.5min finished\n"
     ]
    },
    {
     "name": "stdout",
     "output_type": "stream",
     "text": [
      "Fitting 10 folds for each of 27 candidates, totalling 270 fits\n"
     ]
    },
    {
     "name": "stderr",
     "output_type": "stream",
     "text": [
      "[Parallel(n_jobs=1)]: Done 270 out of 270 | elapsed:  5.5min finished\n"
     ]
    }
   ],
   "source": [
    "text_file = open(os.path.join(dir_path, result_file), 'w')\n",
    "for k in range(7,14):\n",
    "    for typeScaling in ['minmax','normalized'] :\n",
    "        for methode in ['2012','all','noScale'] :\n",
    "\n",
    "            pipeline=Pipeline([ ('scale',Scale(methode))\n",
    "                   ,('knn', FillNaN_KNN(k=k))\n",
    "                   ,('rebuildDF',RebuildDF(data.alldata,['x51']))\n",
    "                    ])\n",
    "\n",
    "            X=pipeline.transform(data.alldata)\n",
    "            X.index=data.alldata.index\n",
    "            train=X.ix['train']\n",
    "            test=X.ix['test']\n",
    "\n",
    "        tuned_parameters = [{'loss': ['deviance'],\n",
    "                    'max_features':[5,10,20],\n",
    "                    'max_depth':[3,5,10],\n",
    "                    'n_estimators':[100,300,500]}]\n",
    "\n",
    "\n",
    "        clf = GridSearchCV(GradientBoostingClassifier(), tuned_parameters, cv=10,verbose=1)\n",
    "        clf.fit(train,data.cible[0].values)\n",
    "       \n",
    "    \n",
    "        print('--------------------------', file=text_file)\n",
    "        print(\"KNN :\"+str(k), file=text_file)\n",
    "        print(\"methode :\"+ methode, file=text_file)\n",
    "        print('', file=text_file)\n",
    "        print(\"Best parameters set found on development set:\", file=text_file)\n",
    "        print('', file=text_file)\n",
    "        print(clf.best_params_, file=text_file)\n",
    "        print('', file=text_file)\n",
    "\n",
    "        print(\"Grid scores on development set:\", file=text_file)\n",
    "        print('', file=text_file)\n",
    "        means = clf.cv_results_['mean_test_score']\n",
    "        stds = clf.cv_results_['std_test_score']\n",
    "        for mean, std, params in zip(means, stds, clf.cv_results_['params']):\n",
    "            print(\"%0.3f (+/-%0.03f) for %r\"\n",
    "                    % (mean, std * 2, params), file=text_file)\n",
    "        print('', file=text_file)\n",
    "        \n",
    "text_file.close()"
   ]
  },
  {
   "cell_type": "code",
   "execution_count": 262,
   "metadata": {
    "collapsed": true
   },
   "outputs": [],
   "source": [
    "pipeline=Pipeline([ ('scale',Scale('noScale'))\n",
    "                   ,('knn', FillNaN_KNN(k=11))\n",
    "                   ,('rebuildDF',RebuildDF(data.alldata,['x51']))\n",
    "                    ])\n",
    "\n",
    "X=pipeline.transform(data.alldata)\n",
    "X.index=data.alldata.index\n",
    "train=X.ix['train']\n",
    "test=X.ix['test']\n"
   ]
  },
  {
   "cell_type": "code",
   "execution_count": 263,
   "metadata": {
    "collapsed": false
   },
   "outputs": [
    {
     "data": {
      "text/plain": [
       "GradientBoostingClassifier(criterion='friedman_mse', init=None,\n",
       "              learning_rate=0.1, loss='deviance', max_depth=3,\n",
       "              max_features=5, max_leaf_nodes=None,\n",
       "              min_impurity_split=1e-07, min_samples_leaf=1,\n",
       "              min_samples_split=2, min_weight_fraction_leaf=0.0,\n",
       "              n_estimators=500, presort='auto', random_state=None,\n",
       "              subsample=1.0, verbose=0, warm_start=False)"
      ]
     },
     "execution_count": 263,
     "metadata": {},
     "output_type": "execute_result"
    }
   ],
   "source": [
    "clf = GradientBoostingClassifier(max_features=5,max_depth=3,n_estimators=500,loss='deviance')\n",
    "clf.fit(train,data.cible[0].values)"
   ]
  },
  {
   "cell_type": "code",
   "execution_count": 264,
   "metadata": {
    "collapsed": true
   },
   "outputs": [],
   "source": [
    "y_pred_clf=clf.predict(test)\n",
    "\n",
    "index=range(len(y_pred_clf))\n",
    "data=np.transpose([index,y_pred_clf])\n",
    "a = pd.DataFrame(data=data,columns=['Id','Prediction'])\n",
    "a.to_csv(\"submission13.csv\", sep=\",\",index=False)"
   ]
  },
  {
   "cell_type": "markdown",
   "metadata": {},
   "source": [
    "# Neural Net to fill Nan"
   ]
  },
  {
   "cell_type": "code",
   "execution_count": 435,
   "metadata": {
    "collapsed": true
   },
   "outputs": [],
   "source": [
    "from sklearn.neural_network import MLPRegressor\n",
    "import matplotlib.pyplot as plt"
   ]
  },
  {
   "cell_type": "code",
   "execution_count": 515,
   "metadata": {
    "collapsed": false
   },
   "outputs": [
    {
     "data": {
      "text/plain": [
       "<__main__.Data at 0x122501b00>"
      ]
     },
     "execution_count": 515,
     "metadata": {},
     "output_type": "execute_result"
    }
   ],
   "source": [
    "data=Data(train_path=\"../Data_competition/X_train.txt\"\n",
    "                      ,test_path=\"../Data_competition/X_test.txt\"\n",
    "                      ,cible_path=\"../Data_competition/y_train.txt\"\n",
    "                      ,header_path=\"../Data_competition/header.csv\"\n",
    "                      ,sep=',')\n",
    "\n",
    "data.createFeaturesName(colToRemove=[2],indexToRemove=[56,49,30,20,14,0,38],name='xForm')\n",
    "data.nameData().joinData().oneHot()"
   ]
  },
  {
   "cell_type": "code",
   "execution_count": 516,
   "metadata": {
    "collapsed": true
   },
   "outputs": [],
   "source": [
    "pipeline=Pipeline([('scale',Scale('all'))\n",
    "                   ,('rebuildDF',RebuildDF(data.alldata,['x51']))])"
   ]
  },
  {
   "cell_type": "code",
   "execution_count": 517,
   "metadata": {
    "collapsed": true
   },
   "outputs": [],
   "source": [
    "X_train=pipeline.transform(data.takeTrain())\n",
    "X_test=pipeline.transform(data.takeTest())"
   ]
  },
  {
   "cell_type": "markdown",
   "metadata": {},
   "source": [
    "### Test sur quelques variables"
   ]
  },
  {
   "cell_type": "code",
   "execution_count": 518,
   "metadata": {
    "collapsed": false
   },
   "outputs": [],
   "source": [
    "train=X_train\n",
    "test=X_test"
   ]
  },
  {
   "cell_type": "code",
   "execution_count": 498,
   "metadata": {
    "collapsed": true
   },
   "outputs": [],
   "source": [
    "x45_train=train['x49']\n",
    "regressor_train=train[['x5','x6']]\n",
    "x45_test=test['x49']\n",
    "regressor_test=test[['x5','x6']]"
   ]
  },
  {
   "cell_type": "code",
   "execution_count": 499,
   "metadata": {
    "collapsed": false
   },
   "outputs": [],
   "source": [
    "regressor_fill_train=regressor_train[x45_train.notnull()]\n",
    "regressor_fill_test=regressor_test[x45_test.notnull()]\n",
    "x45_fill_train=x45_train[x45_train.notnull()]\n",
    "x45_fill_test=x45_test[x45_test.notnull()]\n",
    "\n",
    "regressor_na_train=regressor_train[x45_train.isnull()]\n",
    "regressor_na_test=regressor_test[x45_test.isnull()]"
   ]
  },
  {
   "cell_type": "code",
   "execution_count": 500,
   "metadata": {
    "collapsed": false
   },
   "outputs": [
    {
     "data": {
      "text/plain": [
       "MLPRegressor(activation='logistic', alpha=0.0001, batch_size='auto',\n",
       "       beta_1=0.9, beta_2=0.999, early_stopping=False, epsilon=1e-08,\n",
       "       hidden_layer_sizes=(3,), learning_rate='constant',\n",
       "       learning_rate_init=0.001, max_iter=500, momentum=0.9,\n",
       "       nesterovs_momentum=True, power_t=0.5, random_state=None,\n",
       "       shuffle=True, solver='adam', tol=0.0001, validation_fraction=0.1,\n",
       "       verbose=False, warm_start=False)"
      ]
     },
     "execution_count": 500,
     "metadata": {},
     "output_type": "execute_result"
    }
   ],
   "source": [
    "mlp=MLPRegressor(hidden_layer_sizes=(3,),max_iter=500,activation='logistic')\n",
    "mlp.fit(regressor_fill_train,x45_fill_train)"
   ]
  },
  {
   "cell_type": "code",
   "execution_count": 501,
   "metadata": {
    "collapsed": false
   },
   "outputs": [],
   "source": [
    "predx45=mlp.predict(regressor_fill_test)"
   ]
  },
  {
   "cell_type": "code",
   "execution_count": 502,
   "metadata": {
    "collapsed": false
   },
   "outputs": [],
   "source": [
    "mse=np.mean((x45_fill_test.values-predx45)**2)"
   ]
  },
  {
   "cell_type": "code",
   "execution_count": 503,
   "metadata": {
    "collapsed": false
   },
   "outputs": [
    {
     "data": {
      "text/plain": [
       "0.13151682839306589"
      ]
     },
     "execution_count": 503,
     "metadata": {},
     "output_type": "execute_result"
    }
   ],
   "source": [
    "mse"
   ]
  },
  {
   "cell_type": "code",
   "execution_count": 504,
   "metadata": {
    "collapsed": false
   },
   "outputs": [
    {
     "data": {
      "image/png": "[encoded data removed]",
      "text/plain": [
       "<matplotlib.figure.Figure at 0x1206b0a58>"
      ]
     },
     "metadata": {},
     "output_type": "display_data"
    }
   ],
   "source": [
    "plt.plot(range(len(predx45)),predx45,'r-')\n",
    "plt.show()"
   ]
  },
  {
   "cell_type": "code",
   "execution_count": 505,
   "metadata": {
    "collapsed": false
   },
   "outputs": [
    {
     "data": {
      "image/png": "[encoded data removed]",
      "text/plain": [
       "<matplotlib.figure.Figure at 0x10d829cc0>"
      ]
     },
     "metadata": {},
     "output_type": "display_data"
    }
   ],
   "source": [
    "plt.plot(range(len(predx45)),predx45,'r-')\n",
    "plt.plot(range(len(predx45)),x45_fill_test.values,'b-')\n",
    "plt.ylim([-1,1])\n",
    "plt.show()"
   ]
  },
  {
   "cell_type": "code",
   "execution_count": 506,
   "metadata": {
    "collapsed": false
   },
   "outputs": [
    {
     "data": {
      "image/png": "[encoded data removed]",
      "text/plain": [
       "<matplotlib.figure.Figure at 0x1229d2390>"
      ]
     },
     "metadata": {},
     "output_type": "display_data"
    }
   ],
   "source": [
    "plt.scatter(predx45,x45_fill_test.values)\n",
    "plt.show()"
   ]
  },
  {
   "cell_type": "markdown",
   "metadata": {},
   "source": [
    "Ca ne marche pas très très bien pour l'instant.. Mais bon autant aller jusqu'au bout"
   ]
  },
  {
   "cell_type": "code",
   "execution_count": 507,
   "metadata": {
    "collapsed": false
   },
   "outputs": [],
   "source": [
    "pred_na_train=mlp.predict(regressor_na_train)\n",
    "pred_na_test=mlp.predict(regressor_na_test)"
   ]
  },
  {
   "cell_type": "code",
   "execution_count": 508,
   "metadata": {
    "collapsed": false
   },
   "outputs": [],
   "source": [
    "x45_train[x45_train.isnull()]=pred_na_train\n",
    "x45_test[x45_test.isnull()]=pred_na_test"
   ]
  },
  {
   "cell_type": "code",
   "execution_count": 512,
   "metadata": {
    "collapsed": false
   },
   "outputs": [
    {
     "data": {
      "text/plain": [
       "['x44']"
      ]
     },
     "execution_count": 512,
     "metadata": {},
     "output_type": "execute_result"
    }
   ],
   "source": [
    "list(set(['x'+str(j) for j in range(1,45)]).difference(['x'+str(j) for j in range(1,44)]))"
   ]
  },
  {
   "cell_type": "code",
   "execution_count": 514,
   "metadata": {
    "collapsed": false
   },
   "outputs": [
    {
     "data": {
      "text/plain": [
       "Series([], Name: x49, dtype: float64)"
      ]
     },
     "execution_count": 514,
     "metadata": {},
     "output_type": "execute_result"
    }
   ],
   "source": [
    "x45_test[x45_test.isnull()]"
   ]
  },
  {
   "cell_type": "code",
   "execution_count": 9,
   "metadata": {
    "collapsed": true
   },
   "outputs": [],
   "source": [
    "class FillNaN_MLP(TransformerMixin):\n",
    "    \n",
    "    \"\"\" Fill Nan is data using KNN implementation of fancyimpute\"\"\"\n",
    "    \n",
    "    def __init__(self,hidden_layer_sizes,regressor,maxiter):\n",
    "        self.hidden_layer_sizes=hidden_layer_sizes\n",
    "        self.regressor=regressor\n",
    "        self.maxiter=maxiter\n",
    "\n",
    "    def fit(self,X,y=None):\n",
    "        return self\n",
    "    \n",
    "    def transform(self,X):\n",
    "        \n",
    "        from sklearn.neural_network import MLPRegressor\n",
    "        \n",
    "        X2=X\n",
    "        regressor=X2[self.regressor]\n",
    "        allfeatures=['x'+str(j) for j in range(1,51)]\n",
    "        toRegress=list(set(allfeatures).difference(self.regressor))\n",
    "        \n",
    "        for col in toRegress:\n",
    "            x=X[col]\n",
    "            regressor_fill=regressor[x.notnull()]\n",
    "            regressor_na=regressor[x.isnull()]\n",
    "            x_fill=x[x.notnull()]\n",
    "            \n",
    "            mlp=MLPRegressor(hidden_layer_sizes=self.hidden_layer_sizes,max_iter=self.maxiter)\n",
    "            mlp.fit(regressor_fill,x_fill)\n",
    "            pred_na=mlp.predict(regressor_na)\n",
    "            \n",
    "            X2.loc[x.isnull(),col]=pred_na\n",
    "            \n",
    "        return X2\n",
    "        \n",
    "        \n",
    "        \n",
    "    def get_params(self, deep=True):\n",
    "        return {\"hidden_layer_sizes\": self.hidden_layer_sizes,\"regressor\":self.regressor}\n",
    "\n",
    "    def set_params(self, **parameters):\n",
    "        self.hidden_layer_sizes = parameters[\"hidden_layer_sizes\"]\n",
    "        self.regressor = parameters[\"regressor\"]\n",
    "        return self"
   ]
  },
  {
   "cell_type": "markdown",
   "metadata": {},
   "source": [
    "## Test"
   ]
  },
  {
   "cell_type": "code",
   "execution_count": 598,
   "metadata": {
    "collapsed": false
   },
   "outputs": [
    {
     "data": {
      "text/plain": [
       "<__main__.Data at 0x1204ce748>"
      ]
     },
     "execution_count": 598,
     "metadata": {},
     "output_type": "execute_result"
    }
   ],
   "source": [
    "data=Data(train_path=\"../Data_competition/X_train.txt\"\n",
    "                      ,test_path=\"../Data_competition/X_test.txt\"\n",
    "                      ,cible_path=\"../Data_competition/y_train.txt\"\n",
    "                      ,header_path=\"../Data_competition/header.csv\"\n",
    "                      ,sep=',')\n",
    "\n",
    "data.createFeaturesName(colToRemove=[2],indexToRemove=[56,49,30,20,14,0,38],name='xForm')\n",
    "data.nameData().joinData().oneHot()"
   ]
  },
  {
   "cell_type": "code",
   "execution_count": 604,
   "metadata": {
    "collapsed": false
   },
   "outputs": [
    {
     "name": "stdout",
     "output_type": "stream",
     "text": [
      "(1,)\n",
      "(2,)\n",
      "(3, 2)\n"
     ]
    }
   ],
   "source": [
    "for k in [(1,),(2,),(3,2,)]:\n",
    "    print(k)"
   ]
  },
  {
   "cell_type": "code",
   "execution_count": 599,
   "metadata": {
    "collapsed": true
   },
   "outputs": [],
   "source": [
    "pipeline=Pipeline([ ('scale',Scale('noScale'))\n",
    "                   ,('fill_MLP',\n",
    "                         FillNaN_MLP(hidden_layer_sizes=(3,),\n",
    "                                     regressor=['x'+str(j) for j in range(1,9)],\n",
    "                                     maxiter=600))\n",
    "                   ,('rebuildDF',RebuildDF(data.alldata,['x51']))\n",
    "                    ])"
   ]
  },
  {
   "cell_type": "code",
   "execution_count": 600,
   "metadata": {
    "collapsed": false
   },
   "outputs": [
    {
     "name": "stderr",
     "output_type": "stream",
     "text": [
      "//anaconda/lib/python3.5/site-packages/sklearn/neural_network/multilayer_perceptron.py:563: ConvergenceWarning: Stochastic Optimizer: Maximum iterations reached and the optimization hasn't converged yet.\n",
      "  % (), ConvergenceWarning)\n"
     ]
    }
   ],
   "source": [
    "X=pipeline.transform(data.alldata)"
   ]
  },
  {
   "cell_type": "code",
   "execution_count": 11,
   "metadata": {
    "collapsed": true
   },
   "outputs": [],
   "source": [
    "dir_path='../'\n",
    "result_file='result_grid_MLP_3.csv'"
   ]
  },
  {
   "cell_type": "code",
   "execution_count": 14,
   "metadata": {
    "collapsed": false
   },
   "outputs": [
    {
     "name": "stdout",
     "output_type": "stream",
     "text": [
      "Fitting 10 folds for each of 36 candidates, totalling 360 fits\n"
     ]
    },
    {
     "name": "stderr",
     "output_type": "stream",
     "text": [
      "[Parallel(n_jobs=1)]: Done 360 out of 360 | elapsed:  3.2min finished\n"
     ]
    },
    {
     "name": "stdout",
     "output_type": "stream",
     "text": [
      "Fitting 10 folds for each of 36 candidates, totalling 360 fits\n"
     ]
    },
    {
     "name": "stderr",
     "output_type": "stream",
     "text": [
      "[Parallel(n_jobs=1)]: Done 360 out of 360 | elapsed:  3.0min finished\n"
     ]
    },
    {
     "name": "stdout",
     "output_type": "stream",
     "text": [
      "Fitting 10 folds for each of 36 candidates, totalling 360 fits\n"
     ]
    },
    {
     "name": "stderr",
     "output_type": "stream",
     "text": [
      "[Parallel(n_jobs=1)]: Done 360 out of 360 | elapsed:  3.3min finished\n"
     ]
    },
    {
     "name": "stdout",
     "output_type": "stream",
     "text": [
      "Fitting 10 folds for each of 36 candidates, totalling 360 fits\n"
     ]
    },
    {
     "name": "stderr",
     "output_type": "stream",
     "text": [
      "[Parallel(n_jobs=1)]: Done 360 out of 360 | elapsed:  3.1min finished\n",
      "//anaconda/lib/python3.5/site-packages/sklearn/neural_network/multilayer_perceptron.py:563: ConvergenceWarning: Stochastic Optimizer: Maximum iterations reached and the optimization hasn't converged yet.\n",
      "  % (), ConvergenceWarning)\n"
     ]
    },
    {
     "name": "stdout",
     "output_type": "stream",
     "text": [
      "Fitting 10 folds for each of 36 candidates, totalling 360 fits\n"
     ]
    },
    {
     "name": "stderr",
     "output_type": "stream",
     "text": [
      "[Parallel(n_jobs=1)]: Done 360 out of 360 | elapsed:  3.2min finished\n",
      "//anaconda/lib/python3.5/site-packages/sklearn/neural_network/multilayer_perceptron.py:563: ConvergenceWarning: Stochastic Optimizer: Maximum iterations reached and the optimization hasn't converged yet.\n",
      "  % (), ConvergenceWarning)\n"
     ]
    },
    {
     "name": "stdout",
     "output_type": "stream",
     "text": [
      "Fitting 10 folds for each of 36 candidates, totalling 360 fits\n"
     ]
    },
    {
     "name": "stderr",
     "output_type": "stream",
     "text": [
      "[Parallel(n_jobs=1)]: Done 360 out of 360 | elapsed:  3.1min finished\n"
     ]
    },
    {
     "name": "stdout",
     "output_type": "stream",
     "text": [
      "Fitting 10 folds for each of 36 candidates, totalling 360 fits\n"
     ]
    },
    {
     "name": "stderr",
     "output_type": "stream",
     "text": [
      "[Parallel(n_jobs=1)]: Done 360 out of 360 | elapsed:  3.2min finished\n"
     ]
    },
    {
     "name": "stdout",
     "output_type": "stream",
     "text": [
      "Fitting 10 folds for each of 36 candidates, totalling 360 fits\n"
     ]
    },
    {
     "name": "stderr",
     "output_type": "stream",
     "text": [
      "[Parallel(n_jobs=1)]: Done 360 out of 360 | elapsed:  3.2min finished\n"
     ]
    },
    {
     "name": "stdout",
     "output_type": "stream",
     "text": [
      "Fitting 10 folds for each of 36 candidates, totalling 360 fits\n"
     ]
    },
    {
     "name": "stderr",
     "output_type": "stream",
     "text": [
      "[Parallel(n_jobs=1)]: Done 360 out of 360 | elapsed:  3.4min finished\n"
     ]
    },
    {
     "name": "stdout",
     "output_type": "stream",
     "text": [
      "Fitting 10 folds for each of 36 candidates, totalling 360 fits\n"
     ]
    },
    {
     "name": "stderr",
     "output_type": "stream",
     "text": [
      "[Parallel(n_jobs=1)]: Done 360 out of 360 | elapsed:  3.3min finished\n",
      "//anaconda/lib/python3.5/site-packages/sklearn/neural_network/multilayer_perceptron.py:563: ConvergenceWarning: Stochastic Optimizer: Maximum iterations reached and the optimization hasn't converged yet.\n",
      "  % (), ConvergenceWarning)\n"
     ]
    },
    {
     "name": "stdout",
     "output_type": "stream",
     "text": [
      "Fitting 10 folds for each of 36 candidates, totalling 360 fits\n"
     ]
    },
    {
     "ename": "KeyboardInterrupt",
     "evalue": "",
     "output_type": "error",
     "traceback": [
      "\u001b[0;31m---------------------------------------------------------------------------\u001b[0m",
      "\u001b[0;31mKeyboardInterrupt\u001b[0m                         Traceback (most recent call last)",
      "\u001b[0;32m<ipython-input-14-3684d5ed4bce>\u001b[0m in \u001b[0;36m<module>\u001b[0;34m()\u001b[0m\n\u001b[1;32m     35\u001b[0m \u001b[0;34m\u001b[0m\u001b[0m\n\u001b[1;32m     36\u001b[0m             \u001b[0mclf\u001b[0m \u001b[0;34m=\u001b[0m \u001b[0mGridSearchCV\u001b[0m\u001b[0;34m(\u001b[0m\u001b[0mGradientBoostingClassifier\u001b[0m\u001b[0;34m(\u001b[0m\u001b[0;34m)\u001b[0m\u001b[0;34m,\u001b[0m \u001b[0mtuned_parameters\u001b[0m\u001b[0;34m,\u001b[0m \u001b[0mcv\u001b[0m\u001b[0;34m=\u001b[0m\u001b[0;36m10\u001b[0m\u001b[0;34m,\u001b[0m\u001b[0mverbose\u001b[0m\u001b[0;34m=\u001b[0m\u001b[0;36m1\u001b[0m\u001b[0;34m)\u001b[0m\u001b[0;34m\u001b[0m\u001b[0m\n\u001b[0;32m---> 37\u001b[0;31m             \u001b[0mclf\u001b[0m\u001b[0;34m.\u001b[0m\u001b[0mfit\u001b[0m\u001b[0;34m(\u001b[0m\u001b[0mtrain\u001b[0m\u001b[0;34m,\u001b[0m\u001b[0mdata\u001b[0m\u001b[0;34m.\u001b[0m\u001b[0mcible\u001b[0m\u001b[0;34m[\u001b[0m\u001b[0;36m0\u001b[0m\u001b[0;34m]\u001b[0m\u001b[0;34m.\u001b[0m\u001b[0mvalues\u001b[0m\u001b[0;34m)\u001b[0m\u001b[0;34m\u001b[0m\u001b[0m\n\u001b[0m\u001b[1;32m     38\u001b[0m \u001b[0;34m\u001b[0m\u001b[0m\n\u001b[1;32m     39\u001b[0m \u001b[0;34m\u001b[0m\u001b[0m\n",
      "\u001b[0;32m//anaconda/lib/python3.5/site-packages/sklearn/model_selection/_search.py\u001b[0m in \u001b[0;36mfit\u001b[0;34m(self, X, y, groups)\u001b[0m\n\u001b[1;32m    943\u001b[0m             \u001b[0mtrain\u001b[0m\u001b[0;34m/\u001b[0m\u001b[0mtest\u001b[0m \u001b[0mset\u001b[0m\u001b[0;34m.\u001b[0m\u001b[0;34m\u001b[0m\u001b[0m\n\u001b[1;32m    944\u001b[0m         \"\"\"\n\u001b[0;32m--> 945\u001b[0;31m         \u001b[0;32mreturn\u001b[0m \u001b[0mself\u001b[0m\u001b[0;34m.\u001b[0m\u001b[0m_fit\u001b[0m\u001b[0;34m(\u001b[0m\u001b[0mX\u001b[0m\u001b[0;34m,\u001b[0m \u001b[0my\u001b[0m\u001b[0;34m,\u001b[0m \u001b[0mgroups\u001b[0m\u001b[0;34m,\u001b[0m \u001b[0mParameterGrid\u001b[0m\u001b[0;34m(\u001b[0m\u001b[0mself\u001b[0m\u001b[0;34m.\u001b[0m\u001b[0mparam_grid\u001b[0m\u001b[0;34m)\u001b[0m\u001b[0;34m)\u001b[0m\u001b[0;34m\u001b[0m\u001b[0m\n\u001b[0m\u001b[1;32m    946\u001b[0m \u001b[0;34m\u001b[0m\u001b[0m\n\u001b[1;32m    947\u001b[0m \u001b[0;34m\u001b[0m\u001b[0m\n",
      "\u001b[0;32m//anaconda/lib/python3.5/site-packages/sklearn/model_selection/_search.py\u001b[0m in \u001b[0;36m_fit\u001b[0;34m(self, X, y, groups, parameter_iterable)\u001b[0m\n\u001b[1;32m    562\u001b[0m                                   \u001b[0mreturn_times\u001b[0m\u001b[0;34m=\u001b[0m\u001b[0;32mTrue\u001b[0m\u001b[0;34m,\u001b[0m \u001b[0mreturn_parameters\u001b[0m\u001b[0;34m=\u001b[0m\u001b[0;32mTrue\u001b[0m\u001b[0;34m,\u001b[0m\u001b[0;34m\u001b[0m\u001b[0m\n\u001b[1;32m    563\u001b[0m                                   error_score=self.error_score)\n\u001b[0;32m--> 564\u001b[0;31m           \u001b[0;32mfor\u001b[0m \u001b[0mparameters\u001b[0m \u001b[0;32min\u001b[0m \u001b[0mparameter_iterable\u001b[0m\u001b[0;34m\u001b[0m\u001b[0m\n\u001b[0m\u001b[1;32m    565\u001b[0m           for train, test in cv_iter)\n\u001b[1;32m    566\u001b[0m \u001b[0;34m\u001b[0m\u001b[0m\n",
      "\u001b[0;32m//anaconda/lib/python3.5/site-packages/sklearn/externals/joblib/parallel.py\u001b[0m in \u001b[0;36m__call__\u001b[0;34m(self, iterable)\u001b[0m\n\u001b[1;32m    756\u001b[0m             \u001b[0;31m# was dispatched. In particular this covers the edge\u001b[0m\u001b[0;34m\u001b[0m\u001b[0;34m\u001b[0m\u001b[0m\n\u001b[1;32m    757\u001b[0m             \u001b[0;31m# case of Parallel used with an exhausted iterator.\u001b[0m\u001b[0;34m\u001b[0m\u001b[0;34m\u001b[0m\u001b[0m\n\u001b[0;32m--> 758\u001b[0;31m             \u001b[0;32mwhile\u001b[0m \u001b[0mself\u001b[0m\u001b[0;34m.\u001b[0m\u001b[0mdispatch_one_batch\u001b[0m\u001b[0;34m(\u001b[0m\u001b[0miterator\u001b[0m\u001b[0;34m)\u001b[0m\u001b[0;34m:\u001b[0m\u001b[0;34m\u001b[0m\u001b[0m\n\u001b[0m\u001b[1;32m    759\u001b[0m                 \u001b[0mself\u001b[0m\u001b[0;34m.\u001b[0m\u001b[0m_iterating\u001b[0m \u001b[0;34m=\u001b[0m \u001b[0;32mTrue\u001b[0m\u001b[0;34m\u001b[0m\u001b[0m\n\u001b[1;32m    760\u001b[0m             \u001b[0;32melse\u001b[0m\u001b[0;34m:\u001b[0m\u001b[0;34m\u001b[0m\u001b[0m\n",
      "\u001b[0;32m//anaconda/lib/python3.5/site-packages/sklearn/externals/joblib/parallel.py\u001b[0m in \u001b[0;36mdispatch_one_batch\u001b[0;34m(self, iterator)\u001b[0m\n\u001b[1;32m    606\u001b[0m                 \u001b[0;32mreturn\u001b[0m \u001b[0;32mFalse\u001b[0m\u001b[0;34m\u001b[0m\u001b[0m\n\u001b[1;32m    607\u001b[0m             \u001b[0;32melse\u001b[0m\u001b[0;34m:\u001b[0m\u001b[0;34m\u001b[0m\u001b[0m\n\u001b[0;32m--> 608\u001b[0;31m                 \u001b[0mself\u001b[0m\u001b[0;34m.\u001b[0m\u001b[0m_dispatch\u001b[0m\u001b[0;34m(\u001b[0m\u001b[0mtasks\u001b[0m\u001b[0;34m)\u001b[0m\u001b[0;34m\u001b[0m\u001b[0m\n\u001b[0m\u001b[1;32m    609\u001b[0m                 \u001b[0;32mreturn\u001b[0m \u001b[0;32mTrue\u001b[0m\u001b[0;34m\u001b[0m\u001b[0m\n\u001b[1;32m    610\u001b[0m \u001b[0;34m\u001b[0m\u001b[0m\n",
      "\u001b[0;32m//anaconda/lib/python3.5/site-packages/sklearn/externals/joblib/parallel.py\u001b[0m in \u001b[0;36m_dispatch\u001b[0;34m(self, batch)\u001b[0m\n\u001b[1;32m    569\u001b[0m         \u001b[0mdispatch_timestamp\u001b[0m \u001b[0;34m=\u001b[0m \u001b[0mtime\u001b[0m\u001b[0;34m.\u001b[0m\u001b[0mtime\u001b[0m\u001b[0;34m(\u001b[0m\u001b[0;34m)\u001b[0m\u001b[0;34m\u001b[0m\u001b[0m\n\u001b[1;32m    570\u001b[0m         \u001b[0mcb\u001b[0m \u001b[0;34m=\u001b[0m \u001b[0mBatchCompletionCallBack\u001b[0m\u001b[0;34m(\u001b[0m\u001b[0mdispatch_timestamp\u001b[0m\u001b[0;34m,\u001b[0m \u001b[0mlen\u001b[0m\u001b[0;34m(\u001b[0m\u001b[0mbatch\u001b[0m\u001b[0;34m)\u001b[0m\u001b[0;34m,\u001b[0m \u001b[0mself\u001b[0m\u001b[0;34m)\u001b[0m\u001b[0;34m\u001b[0m\u001b[0m\n\u001b[0;32m--> 571\u001b[0;31m         \u001b[0mjob\u001b[0m \u001b[0;34m=\u001b[0m \u001b[0mself\u001b[0m\u001b[0;34m.\u001b[0m\u001b[0m_backend\u001b[0m\u001b[0;34m.\u001b[0m\u001b[0mapply_async\u001b[0m\u001b[0;34m(\u001b[0m\u001b[0mbatch\u001b[0m\u001b[0;34m,\u001b[0m \u001b[0mcallback\u001b[0m\u001b[0;34m=\u001b[0m\u001b[0mcb\u001b[0m\u001b[0;34m)\u001b[0m\u001b[0;34m\u001b[0m\u001b[0m\n\u001b[0m\u001b[1;32m    572\u001b[0m         \u001b[0mself\u001b[0m\u001b[0;34m.\u001b[0m\u001b[0m_jobs\u001b[0m\u001b[0;34m.\u001b[0m\u001b[0mappend\u001b[0m\u001b[0;34m(\u001b[0m\u001b[0mjob\u001b[0m\u001b[0;34m)\u001b[0m\u001b[0;34m\u001b[0m\u001b[0m\n\u001b[1;32m    573\u001b[0m \u001b[0;34m\u001b[0m\u001b[0m\n",
      "\u001b[0;32m//anaconda/lib/python3.5/site-packages/sklearn/externals/joblib/_parallel_backends.py\u001b[0m in \u001b[0;36mapply_async\u001b[0;34m(self, func, callback)\u001b[0m\n\u001b[1;32m    107\u001b[0m     \u001b[0;32mdef\u001b[0m \u001b[0mapply_async\u001b[0m\u001b[0;34m(\u001b[0m\u001b[0mself\u001b[0m\u001b[0;34m,\u001b[0m \u001b[0mfunc\u001b[0m\u001b[0;34m,\u001b[0m \u001b[0mcallback\u001b[0m\u001b[0;34m=\u001b[0m\u001b[0;32mNone\u001b[0m\u001b[0;34m)\u001b[0m\u001b[0;34m:\u001b[0m\u001b[0;34m\u001b[0m\u001b[0m\n\u001b[1;32m    108\u001b[0m         \u001b[0;34m\"\"\"Schedule a func to be run\"\"\"\u001b[0m\u001b[0;34m\u001b[0m\u001b[0m\n\u001b[0;32m--> 109\u001b[0;31m         \u001b[0mresult\u001b[0m \u001b[0;34m=\u001b[0m \u001b[0mImmediateResult\u001b[0m\u001b[0;34m(\u001b[0m\u001b[0mfunc\u001b[0m\u001b[0;34m)\u001b[0m\u001b[0;34m\u001b[0m\u001b[0m\n\u001b[0m\u001b[1;32m    110\u001b[0m         \u001b[0;32mif\u001b[0m \u001b[0mcallback\u001b[0m\u001b[0;34m:\u001b[0m\u001b[0;34m\u001b[0m\u001b[0m\n\u001b[1;32m    111\u001b[0m             \u001b[0mcallback\u001b[0m\u001b[0;34m(\u001b[0m\u001b[0mresult\u001b[0m\u001b[0;34m)\u001b[0m\u001b[0;34m\u001b[0m\u001b[0m\n",
      "\u001b[0;32m//anaconda/lib/python3.5/site-packages/sklearn/externals/joblib/_parallel_backends.py\u001b[0m in \u001b[0;36m__init__\u001b[0;34m(self, batch)\u001b[0m\n\u001b[1;32m    324\u001b[0m         \u001b[0;31m# Don't delay the application, to avoid keeping the input\u001b[0m\u001b[0;34m\u001b[0m\u001b[0;34m\u001b[0m\u001b[0m\n\u001b[1;32m    325\u001b[0m         \u001b[0;31m# arguments in memory\u001b[0m\u001b[0;34m\u001b[0m\u001b[0;34m\u001b[0m\u001b[0m\n\u001b[0;32m--> 326\u001b[0;31m         \u001b[0mself\u001b[0m\u001b[0;34m.\u001b[0m\u001b[0mresults\u001b[0m \u001b[0;34m=\u001b[0m \u001b[0mbatch\u001b[0m\u001b[0;34m(\u001b[0m\u001b[0;34m)\u001b[0m\u001b[0;34m\u001b[0m\u001b[0m\n\u001b[0m\u001b[1;32m    327\u001b[0m \u001b[0;34m\u001b[0m\u001b[0m\n\u001b[1;32m    328\u001b[0m     \u001b[0;32mdef\u001b[0m \u001b[0mget\u001b[0m\u001b[0;34m(\u001b[0m\u001b[0mself\u001b[0m\u001b[0;34m)\u001b[0m\u001b[0;34m:\u001b[0m\u001b[0;34m\u001b[0m\u001b[0m\n",
      "\u001b[0;32m//anaconda/lib/python3.5/site-packages/sklearn/externals/joblib/parallel.py\u001b[0m in \u001b[0;36m__call__\u001b[0;34m(self)\u001b[0m\n\u001b[1;32m    129\u001b[0m \u001b[0;34m\u001b[0m\u001b[0m\n\u001b[1;32m    130\u001b[0m     \u001b[0;32mdef\u001b[0m \u001b[0m__call__\u001b[0m\u001b[0;34m(\u001b[0m\u001b[0mself\u001b[0m\u001b[0;34m)\u001b[0m\u001b[0;34m:\u001b[0m\u001b[0;34m\u001b[0m\u001b[0m\n\u001b[0;32m--> 131\u001b[0;31m         \u001b[0;32mreturn\u001b[0m \u001b[0;34m[\u001b[0m\u001b[0mfunc\u001b[0m\u001b[0;34m(\u001b[0m\u001b[0;34m*\u001b[0m\u001b[0margs\u001b[0m\u001b[0;34m,\u001b[0m \u001b[0;34m**\u001b[0m\u001b[0mkwargs\u001b[0m\u001b[0;34m)\u001b[0m \u001b[0;32mfor\u001b[0m \u001b[0mfunc\u001b[0m\u001b[0;34m,\u001b[0m \u001b[0margs\u001b[0m\u001b[0;34m,\u001b[0m \u001b[0mkwargs\u001b[0m \u001b[0;32min\u001b[0m \u001b[0mself\u001b[0m\u001b[0;34m.\u001b[0m\u001b[0mitems\u001b[0m\u001b[0;34m]\u001b[0m\u001b[0;34m\u001b[0m\u001b[0m\n\u001b[0m\u001b[1;32m    132\u001b[0m \u001b[0;34m\u001b[0m\u001b[0m\n\u001b[1;32m    133\u001b[0m     \u001b[0;32mdef\u001b[0m \u001b[0m__len__\u001b[0m\u001b[0;34m(\u001b[0m\u001b[0mself\u001b[0m\u001b[0;34m)\u001b[0m\u001b[0;34m:\u001b[0m\u001b[0;34m\u001b[0m\u001b[0m\n",
      "\u001b[0;32m//anaconda/lib/python3.5/site-packages/sklearn/externals/joblib/parallel.py\u001b[0m in \u001b[0;36m<listcomp>\u001b[0;34m(.0)\u001b[0m\n\u001b[1;32m    129\u001b[0m \u001b[0;34m\u001b[0m\u001b[0m\n\u001b[1;32m    130\u001b[0m     \u001b[0;32mdef\u001b[0m \u001b[0m__call__\u001b[0m\u001b[0;34m(\u001b[0m\u001b[0mself\u001b[0m\u001b[0;34m)\u001b[0m\u001b[0;34m:\u001b[0m\u001b[0;34m\u001b[0m\u001b[0m\n\u001b[0;32m--> 131\u001b[0;31m         \u001b[0;32mreturn\u001b[0m \u001b[0;34m[\u001b[0m\u001b[0mfunc\u001b[0m\u001b[0;34m(\u001b[0m\u001b[0;34m*\u001b[0m\u001b[0margs\u001b[0m\u001b[0;34m,\u001b[0m \u001b[0;34m**\u001b[0m\u001b[0mkwargs\u001b[0m\u001b[0;34m)\u001b[0m \u001b[0;32mfor\u001b[0m \u001b[0mfunc\u001b[0m\u001b[0;34m,\u001b[0m \u001b[0margs\u001b[0m\u001b[0;34m,\u001b[0m \u001b[0mkwargs\u001b[0m \u001b[0;32min\u001b[0m \u001b[0mself\u001b[0m\u001b[0;34m.\u001b[0m\u001b[0mitems\u001b[0m\u001b[0;34m]\u001b[0m\u001b[0;34m\u001b[0m\u001b[0m\n\u001b[0m\u001b[1;32m    132\u001b[0m \u001b[0;34m\u001b[0m\u001b[0m\n\u001b[1;32m    133\u001b[0m     \u001b[0;32mdef\u001b[0m \u001b[0m__len__\u001b[0m\u001b[0;34m(\u001b[0m\u001b[0mself\u001b[0m\u001b[0;34m)\u001b[0m\u001b[0;34m:\u001b[0m\u001b[0;34m\u001b[0m\u001b[0m\n",
      "\u001b[0;32m//anaconda/lib/python3.5/site-packages/sklearn/model_selection/_validation.py\u001b[0m in \u001b[0;36m_fit_and_score\u001b[0;34m(estimator, X, y, scorer, train, test, verbose, parameters, fit_params, return_train_score, return_parameters, return_n_test_samples, return_times, error_score)\u001b[0m\n\u001b[1;32m    236\u001b[0m             \u001b[0mestimator\u001b[0m\u001b[0;34m.\u001b[0m\u001b[0mfit\u001b[0m\u001b[0;34m(\u001b[0m\u001b[0mX_train\u001b[0m\u001b[0;34m,\u001b[0m \u001b[0;34m**\u001b[0m\u001b[0mfit_params\u001b[0m\u001b[0;34m)\u001b[0m\u001b[0;34m\u001b[0m\u001b[0m\n\u001b[1;32m    237\u001b[0m         \u001b[0;32melse\u001b[0m\u001b[0;34m:\u001b[0m\u001b[0;34m\u001b[0m\u001b[0m\n\u001b[0;32m--> 238\u001b[0;31m             \u001b[0mestimator\u001b[0m\u001b[0;34m.\u001b[0m\u001b[0mfit\u001b[0m\u001b[0;34m(\u001b[0m\u001b[0mX_train\u001b[0m\u001b[0;34m,\u001b[0m \u001b[0my_train\u001b[0m\u001b[0;34m,\u001b[0m \u001b[0;34m**\u001b[0m\u001b[0mfit_params\u001b[0m\u001b[0;34m)\u001b[0m\u001b[0;34m\u001b[0m\u001b[0m\n\u001b[0m\u001b[1;32m    239\u001b[0m \u001b[0;34m\u001b[0m\u001b[0m\n\u001b[1;32m    240\u001b[0m     \u001b[0;32mexcept\u001b[0m \u001b[0mException\u001b[0m \u001b[0;32mas\u001b[0m \u001b[0me\u001b[0m\u001b[0;34m:\u001b[0m\u001b[0;34m\u001b[0m\u001b[0m\n",
      "\u001b[0;32m//anaconda/lib/python3.5/site-packages/sklearn/ensemble/gradient_boosting.py\u001b[0m in \u001b[0;36mfit\u001b[0;34m(self, X, y, sample_weight, monitor)\u001b[0m\n\u001b[1;32m   1026\u001b[0m         \u001b[0;31m# fit the boosting stages\u001b[0m\u001b[0;34m\u001b[0m\u001b[0;34m\u001b[0m\u001b[0m\n\u001b[1;32m   1027\u001b[0m         n_stages = self._fit_stages(X, y, y_pred, sample_weight, random_state,\n\u001b[0;32m-> 1028\u001b[0;31m                                     begin_at_stage, monitor, X_idx_sorted)\n\u001b[0m\u001b[1;32m   1029\u001b[0m         \u001b[0;31m# change shape of arrays after fit (early-stopping or additional ests)\u001b[0m\u001b[0;34m\u001b[0m\u001b[0;34m\u001b[0m\u001b[0m\n\u001b[1;32m   1030\u001b[0m         \u001b[0;32mif\u001b[0m \u001b[0mn_stages\u001b[0m \u001b[0;34m!=\u001b[0m \u001b[0mself\u001b[0m\u001b[0;34m.\u001b[0m\u001b[0mestimators_\u001b[0m\u001b[0;34m.\u001b[0m\u001b[0mshape\u001b[0m\u001b[0;34m[\u001b[0m\u001b[0;36m0\u001b[0m\u001b[0;34m]\u001b[0m\u001b[0;34m:\u001b[0m\u001b[0;34m\u001b[0m\u001b[0m\n",
      "\u001b[0;32m//anaconda/lib/python3.5/site-packages/sklearn/ensemble/gradient_boosting.py\u001b[0m in \u001b[0;36m_fit_stages\u001b[0;34m(self, X, y, y_pred, sample_weight, random_state, begin_at_stage, monitor, X_idx_sorted)\u001b[0m\n\u001b[1;32m   1081\u001b[0m             y_pred = self._fit_stage(i, X, y, y_pred, sample_weight,\n\u001b[1;32m   1082\u001b[0m                                      \u001b[0msample_mask\u001b[0m\u001b[0;34m,\u001b[0m \u001b[0mrandom_state\u001b[0m\u001b[0;34m,\u001b[0m \u001b[0mX_idx_sorted\u001b[0m\u001b[0;34m,\u001b[0m\u001b[0;34m\u001b[0m\u001b[0m\n\u001b[0;32m-> 1083\u001b[0;31m                                      X_csc, X_csr)\n\u001b[0m\u001b[1;32m   1084\u001b[0m \u001b[0;34m\u001b[0m\u001b[0m\n\u001b[1;32m   1085\u001b[0m             \u001b[0;31m# track deviance (= loss)\u001b[0m\u001b[0;34m\u001b[0m\u001b[0;34m\u001b[0m\u001b[0m\n",
      "\u001b[0;32m//anaconda/lib/python3.5/site-packages/sklearn/ensemble/gradient_boosting.py\u001b[0m in \u001b[0;36m_fit_stage\u001b[0;34m(self, i, X, y, y_pred, sample_weight, sample_mask, random_state, X_idx_sorted, X_csc, X_csr)\u001b[0m\n\u001b[1;32m    785\u001b[0m             \u001b[0;32melse\u001b[0m\u001b[0;34m:\u001b[0m\u001b[0;34m\u001b[0m\u001b[0m\n\u001b[1;32m    786\u001b[0m                 tree.fit(X, residual, sample_weight=sample_weight,\n\u001b[0;32m--> 787\u001b[0;31m                          check_input=False, X_idx_sorted=X_idx_sorted)\n\u001b[0m\u001b[1;32m    788\u001b[0m \u001b[0;34m\u001b[0m\u001b[0m\n\u001b[1;32m    789\u001b[0m             \u001b[0;31m# update tree leaves\u001b[0m\u001b[0;34m\u001b[0m\u001b[0;34m\u001b[0m\u001b[0m\n",
      "\u001b[0;32m//anaconda/lib/python3.5/site-packages/sklearn/tree/tree.py\u001b[0m in \u001b[0;36mfit\u001b[0;34m(self, X, y, sample_weight, check_input, X_idx_sorted)\u001b[0m\n\u001b[1;32m   1027\u001b[0m             \u001b[0msample_weight\u001b[0m\u001b[0;34m=\u001b[0m\u001b[0msample_weight\u001b[0m\u001b[0;34m,\u001b[0m\u001b[0;34m\u001b[0m\u001b[0m\n\u001b[1;32m   1028\u001b[0m             \u001b[0mcheck_input\u001b[0m\u001b[0;34m=\u001b[0m\u001b[0mcheck_input\u001b[0m\u001b[0;34m,\u001b[0m\u001b[0;34m\u001b[0m\u001b[0m\n\u001b[0;32m-> 1029\u001b[0;31m             X_idx_sorted=X_idx_sorted)\n\u001b[0m\u001b[1;32m   1030\u001b[0m         \u001b[0;32mreturn\u001b[0m \u001b[0mself\u001b[0m\u001b[0;34m\u001b[0m\u001b[0m\n\u001b[1;32m   1031\u001b[0m \u001b[0;34m\u001b[0m\u001b[0m\n",
      "\u001b[0;32m//anaconda/lib/python3.5/site-packages/sklearn/tree/tree.py\u001b[0m in \u001b[0;36mfit\u001b[0;34m(self, X, y, sample_weight, check_input, X_idx_sorted)\u001b[0m\n\u001b[1;32m    348\u001b[0m                                            self.min_impurity_split)\n\u001b[1;32m    349\u001b[0m \u001b[0;34m\u001b[0m\u001b[0m\n\u001b[0;32m--> 350\u001b[0;31m         \u001b[0mbuilder\u001b[0m\u001b[0;34m.\u001b[0m\u001b[0mbuild\u001b[0m\u001b[0;34m(\u001b[0m\u001b[0mself\u001b[0m\u001b[0;34m.\u001b[0m\u001b[0mtree_\u001b[0m\u001b[0;34m,\u001b[0m \u001b[0mX\u001b[0m\u001b[0;34m,\u001b[0m \u001b[0my\u001b[0m\u001b[0;34m,\u001b[0m \u001b[0msample_weight\u001b[0m\u001b[0;34m,\u001b[0m \u001b[0mX_idx_sorted\u001b[0m\u001b[0;34m)\u001b[0m\u001b[0;34m\u001b[0m\u001b[0m\n\u001b[0m\u001b[1;32m    351\u001b[0m \u001b[0;34m\u001b[0m\u001b[0m\n\u001b[1;32m    352\u001b[0m         \u001b[0;32mif\u001b[0m \u001b[0mself\u001b[0m\u001b[0;34m.\u001b[0m\u001b[0mn_outputs_\u001b[0m \u001b[0;34m==\u001b[0m \u001b[0;36m1\u001b[0m\u001b[0;34m:\u001b[0m\u001b[0;34m\u001b[0m\u001b[0m\n",
      "\u001b[0;31mKeyboardInterrupt\u001b[0m: "
     ]
    }
   ],
   "source": [
    "text_file = open(os.path.join(dir_path, result_file), 'w')\n",
    "#for k in range(2,5):\n",
    "for k in [(2,),(3,),(4,),(3,2,),(4,3,)]:\n",
    "    for methode in ['2012','all','noScale'] :\n",
    "        for typeScaling in ['minmax','normalized'] :\n",
    "        \n",
    "        \n",
    "            data=Data(train_path=\"../Data_competition/X_train.txt\"\n",
    "                          ,test_path=\"../Data_competition/X_test.txt\"\n",
    "                          ,cible_path=\"../Data_competition/y_train.txt\"\n",
    "                          ,header_path=\"../Data_competition/header.csv\"\n",
    "                          ,sep=',')\n",
    "\n",
    "            data.createFeaturesName(colToRemove=[2],indexToRemove=[56,49,30,20,14,0,38],name='xForm')\n",
    "            data.nameData().joinData().oneHot()\n",
    "\n",
    "            pipeline=Pipeline([ ('scale',Scale(methode=methode,typeScaling=typeScaling))\n",
    "                   ,('fill_MLP',\n",
    "                         FillNaN_MLP(hidden_layer_sizes=k,\n",
    "                                     regressor=['x'+str(j) for j in range(1,9)],\n",
    "                                     maxiter=1500))\n",
    "                   ,('rebuildDF',RebuildDF(data.alldata,['x51']))\n",
    "                    ])\n",
    "\n",
    "            X=pipeline.transform(data.alldata)\n",
    "            X.index=data.alldata.index\n",
    "            train=X.ix['train']\n",
    "            test=X.ix['test']\n",
    "\n",
    "            tuned_parameters = [{'loss': ['deviance'],\n",
    "                    'max_features':[5,10,20],\n",
    "                    'max_depth':[3,5,10],\n",
    "                    'n_estimators':[20,50,80,100]}]\n",
    "\n",
    "\n",
    "            clf = GridSearchCV(GradientBoostingClassifier(), tuned_parameters, cv=10,verbose=1)\n",
    "            clf.fit(train,data.cible[0].values)\n",
    "       \n",
    "    \n",
    "            print('--------------------------', file=text_file)\n",
    "            print(\"KNN :\"+str(k), file=text_file)\n",
    "            print(\"methode :\"+ methode, file=text_file)\n",
    "            print('', file=text_file)\n",
    "            print(\"Best parameters set found on development set:\", file=text_file)\n",
    "            print('', file=text_file)\n",
    "            print(clf.best_params_, file=text_file)\n",
    "            print('', file=text_file)\n",
    "\n",
    "            print(\"Grid scores on development set:\", file=text_file)\n",
    "            print('', file=text_file)\n",
    "            means = clf.cv_results_['mean_test_score']\n",
    "            stds = clf.cv_results_['std_test_score']\n",
    "            for mean, std, params in zip(means, stds, clf.cv_results_['params']):\n",
    "                print(\"%0.3f (+/-%0.03f) for %r\"\n",
    "                        % (mean, std * 2, params), file=text_file)\n",
    "            print('', file=text_file)\n",
    "        \n",
    "text_file.close()"
   ]
  },
  {
   "cell_type": "markdown",
   "metadata": {},
   "source": [
    "## Test en séparant le test et le train"
   ]
  },
  {
   "cell_type": "code",
   "execution_count": 624,
   "metadata": {
    "collapsed": true
   },
   "outputs": [],
   "source": [
    "dir_path='../'\n",
    "result_file='result_grid_MLP_filled_split_traintest.csv'"
   ]
  },
  {
   "cell_type": "code",
   "execution_count": null,
   "metadata": {
    "collapsed": false
   },
   "outputs": [
    {
     "name": "stdout",
     "output_type": "stream",
     "text": [
      "Fitting 10 folds for each of 16 candidates, totalling 160 fits\n"
     ]
    }
   ],
   "source": [
    "text_file = open(os.path.join(dir_path, result_file), 'w')\n",
    "for k in [(2,),(3,),(3,2,)]:\n",
    "    for methode in ['2012','all','noScale'] :\n",
    "        for typeScaling in ['minmax','normalized'] :\n",
    "        \n",
    "        \n",
    "            data=Data(train_path=\"../Data_competition/X_train.txt\"\n",
    "                          ,test_path=\"../Data_competition/X_test.txt\"\n",
    "                          ,cible_path=\"../Data_competition/y_train.txt\"\n",
    "                          ,header_path=\"../Data_competition/header.csv\"\n",
    "                          ,sep=',')\n",
    "\n",
    "            data.createFeaturesName(colToRemove=[2],indexToRemove=[56,49,30,20,14,0,38],name='xForm')\n",
    "            data.nameData().joinData().oneHot()\n",
    "\n",
    "            pipeline=Pipeline([ ('scale',Scale(methode=methode,typeScaling=typeScaling))\n",
    "                   ,('fill_MLP',\n",
    "                         FillNaN_MLP(hidden_layer_sizes=k,\n",
    "                                     regressor=['x'+str(j) for j in range(1,9)],\n",
    "                                     maxiter=1500))\n",
    "                   ,('rebuildDF',RebuildDF(data.alldata,['x51']))\n",
    "                    ])\n",
    "\n",
    "            train=pipeline.transform(data.takeTrain())\n",
    "  \n",
    "\n",
    "            tuned_parameters = [{'loss': ['deviance'],\n",
    "                    'max_features':[5,10],\n",
    "                    'max_depth':[3,5],\n",
    "                    'n_estimators':[500,700,1000,1500]}]\n",
    "\n",
    "\n",
    "            clf = GridSearchCV(GradientBoostingClassifier(), tuned_parameters, cv=10,verbose=1)\n",
    "            clf.fit(train,data.cible[0].values)\n",
    "       \n",
    "    \n",
    "            print('--------------------------', file=text_file)\n",
    "            print(\"KNN :\"+str(k), file=text_file)\n",
    "            print(\"methode :\"+ methode, file=text_file)\n",
    "            print('', file=text_file)\n",
    "            print(\"Best parameters set found on development set:\", file=text_file)\n",
    "            print('', file=text_file)\n",
    "            print(clf.best_params_, file=text_file)\n",
    "            print('', file=text_file)\n",
    "\n",
    "            print(\"Grid scores on development set:\", file=text_file)\n",
    "            print('', file=text_file)\n",
    "            means = clf.cv_results_['mean_test_score']\n",
    "            stds = clf.cv_results_['std_test_score']\n",
    "            for mean, std, params in zip(means, stds, clf.cv_results_['params']):\n",
    "                print(\"%0.3f (+/-%0.03f) for %r\"\n",
    "                        % (mean, std * 2, params), file=text_file)\n",
    "            print('', file=text_file)\n",
    "        \n",
    "text_file.close()"
   ]
  },
  {
   "cell_type": "code",
   "execution_count": null,
   "metadata": {
    "collapsed": true
   },
   "outputs": [],
   "source": []
  }
 ],
 "metadata": {
  "anaconda-cloud": {},
  "kernelspec": {
   "display_name": "Python [default]",
   "language": "python",
   "name": "python3"
  },
  "language_info": {
   "codemirror_mode": {
    "name": "ipython",
    "version": 3
   },
   "file_extension": ".py",
   "mimetype": "text/x-python",
   "name": "python",
   "nbconvert_exporter": "python",
   "pygments_lexer": "ipython3",
   "version": "3.5.2"
  }
 },
 "nbformat": 4,
 "nbformat_minor": 1
}
